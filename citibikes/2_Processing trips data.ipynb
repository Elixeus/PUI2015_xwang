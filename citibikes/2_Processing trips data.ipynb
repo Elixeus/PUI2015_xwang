{
 "cells": [
  {
   "cell_type": "code",
   "execution_count": 2,
   "metadata": {
    "collapsed": false
   },
   "outputs": [],
   "source": [
    "import pandas as pd\n",
    "import numpy as np\n",
    "\n",
    "import matplotlib.pyplot as plt\n",
    "\n",
    "%matplotlib inline"
   ]
  },
  {
   "cell_type": "code",
   "execution_count": 3,
   "metadata": {
    "collapsed": false
   },
   "outputs": [
    {
     "data": {
      "text/html": [
       "<div>\n",
       "<table border=\"1\" class=\"dataframe\">\n",
       "  <thead>\n",
       "    <tr style=\"text-align: right;\">\n",
       "      <th></th>\n",
       "      <th>tripduration</th>\n",
       "      <th>starttime</th>\n",
       "      <th>stoptime</th>\n",
       "      <th>start station id</th>\n",
       "      <th>start station name</th>\n",
       "      <th>start station latitude</th>\n",
       "      <th>start station longitude</th>\n",
       "      <th>end station id</th>\n",
       "      <th>end station name</th>\n",
       "      <th>end station latitude</th>\n",
       "      <th>end station longitude</th>\n",
       "      <th>bikeid</th>\n",
       "      <th>usertype</th>\n",
       "      <th>birth year</th>\n",
       "      <th>gender</th>\n",
       "    </tr>\n",
       "  </thead>\n",
       "  <tbody>\n",
       "    <tr>\n",
       "      <th>0</th>\n",
       "      <td>1027</td>\n",
       "      <td>10/1/2014 00:00:27</td>\n",
       "      <td>10/1/2014 00:17:34</td>\n",
       "      <td>479</td>\n",
       "      <td>9 Ave &amp; W 45 St</td>\n",
       "      <td>40.760193</td>\n",
       "      <td>-73.991255</td>\n",
       "      <td>540</td>\n",
       "      <td>Lexington Ave &amp; E 26 St</td>\n",
       "      <td>40.741473</td>\n",
       "      <td>-73.983209</td>\n",
       "      <td>21376</td>\n",
       "      <td>Subscriber</td>\n",
       "      <td>1977</td>\n",
       "      <td>1</td>\n",
       "    </tr>\n",
       "    <tr>\n",
       "      <th>1</th>\n",
       "      <td>534</td>\n",
       "      <td>10/1/2014 00:00:36</td>\n",
       "      <td>10/1/2014 00:09:30</td>\n",
       "      <td>417</td>\n",
       "      <td>Barclay St &amp; Church St</td>\n",
       "      <td>40.712912</td>\n",
       "      <td>-74.010202</td>\n",
       "      <td>417</td>\n",
       "      <td>Barclay St &amp; Church St</td>\n",
       "      <td>40.712912</td>\n",
       "      <td>-74.010202</td>\n",
       "      <td>16086</td>\n",
       "      <td>Subscriber</td>\n",
       "      <td>1974</td>\n",
       "      <td>2</td>\n",
       "    </tr>\n",
       "    <tr>\n",
       "      <th>2</th>\n",
       "      <td>416</td>\n",
       "      <td>10/1/2014 00:00:42</td>\n",
       "      <td>10/1/2014 00:07:38</td>\n",
       "      <td>327</td>\n",
       "      <td>Vesey Pl &amp; River Terrace</td>\n",
       "      <td>40.715338</td>\n",
       "      <td>-74.016584</td>\n",
       "      <td>415</td>\n",
       "      <td>Pearl St &amp; Hanover Square</td>\n",
       "      <td>40.704718</td>\n",
       "      <td>-74.009260</td>\n",
       "      <td>16073</td>\n",
       "      <td>Subscriber</td>\n",
       "      <td>1990</td>\n",
       "      <td>1</td>\n",
       "    </tr>\n",
       "  </tbody>\n",
       "</table>\n",
       "</div>"
      ],
      "text/plain": [
       "   tripduration           starttime            stoptime  start station id  \\\n",
       "0          1027  10/1/2014 00:00:27  10/1/2014 00:17:34               479   \n",
       "1           534  10/1/2014 00:00:36  10/1/2014 00:09:30               417   \n",
       "2           416  10/1/2014 00:00:42  10/1/2014 00:07:38               327   \n",
       "\n",
       "         start station name  start station latitude  start station longitude  \\\n",
       "0           9 Ave & W 45 St               40.760193               -73.991255   \n",
       "1    Barclay St & Church St               40.712912               -74.010202   \n",
       "2  Vesey Pl & River Terrace               40.715338               -74.016584   \n",
       "\n",
       "   end station id           end station name  end station latitude  \\\n",
       "0             540    Lexington Ave & E 26 St             40.741473   \n",
       "1             417     Barclay St & Church St             40.712912   \n",
       "2             415  Pearl St & Hanover Square             40.704718   \n",
       "\n",
       "   end station longitude  bikeid    usertype  birth year  gender  \n",
       "0             -73.983209   21376  Subscriber        1977       1  \n",
       "1             -74.010202   16086  Subscriber        1974       2  \n",
       "2             -74.009260   16073  Subscriber        1990       1  "
      ]
     },
     "execution_count": 3,
     "metadata": {},
     "output_type": "execute_result"
    }
   ],
   "source": [
    "# Reading in the Citi Bike trip data from Oct 2014\n",
    "trips = pd.read_csv('/Users/casy/Dropbox/CUSP/1_1_PUI/PUI_Bycicle_Research/data/201410-citibike-tripdata.csv')\n",
    "trips.head(3)"
   ]
  },
  {
   "cell_type": "code",
   "execution_count": 4,
   "metadata": {
    "collapsed": true
   },
   "outputs": [],
   "source": [
    "tinyTrips = trips[['start station id', 'usertype', 'birth year', 'gender']]"
   ]
  },
  {
   "cell_type": "code",
   "execution_count": 6,
   "metadata": {
    "collapsed": false
   },
   "outputs": [
    {
     "name": "stderr",
     "output_type": "stream",
     "text": [
      "/Users/casy/anaconda/lib/python2.7/site-packages/pandas/core/frame.py:2524: SettingWithCopyWarning: \n",
      "A value is trying to be set on a copy of a slice from a DataFrame\n",
      "\n",
      "See the the caveats in the documentation: http://pandas.pydata.org/pandas-docs/stable/indexing.html#indexing-view-versus-copy\n",
      "  **kwargs)\n"
     ]
    }
   ],
   "source": [
    "tinyTrips.rename(columns={'start station id': 'sid'}, inplace=True)"
   ]
  },
  {
   "cell_type": "code",
   "execution_count": 7,
   "metadata": {
    "collapsed": false
   },
   "outputs": [
    {
     "data": {
      "text/html": [
       "<div>\n",
       "<table border=\"1\" class=\"dataframe\">\n",
       "  <thead>\n",
       "    <tr style=\"text-align: right;\">\n",
       "      <th></th>\n",
       "      <th>sid</th>\n",
       "      <th>usertype</th>\n",
       "      <th>birth year</th>\n",
       "      <th>gender</th>\n",
       "    </tr>\n",
       "  </thead>\n",
       "  <tbody>\n",
       "    <tr>\n",
       "      <th>0</th>\n",
       "      <td>479</td>\n",
       "      <td>Subscriber</td>\n",
       "      <td>1977</td>\n",
       "      <td>1</td>\n",
       "    </tr>\n",
       "    <tr>\n",
       "      <th>1</th>\n",
       "      <td>417</td>\n",
       "      <td>Subscriber</td>\n",
       "      <td>1974</td>\n",
       "      <td>2</td>\n",
       "    </tr>\n",
       "    <tr>\n",
       "      <th>2</th>\n",
       "      <td>327</td>\n",
       "      <td>Subscriber</td>\n",
       "      <td>1990</td>\n",
       "      <td>1</td>\n",
       "    </tr>\n",
       "    <tr>\n",
       "      <th>3</th>\n",
       "      <td>515</td>\n",
       "      <td>Subscriber</td>\n",
       "      <td>1966</td>\n",
       "      <td>1</td>\n",
       "    </tr>\n",
       "    <tr>\n",
       "      <th>4</th>\n",
       "      <td>497</td>\n",
       "      <td>Subscriber</td>\n",
       "      <td>1979</td>\n",
       "      <td>1</td>\n",
       "    </tr>\n",
       "  </tbody>\n",
       "</table>\n",
       "</div>"
      ],
      "text/plain": [
       "   sid    usertype  birth year  gender\n",
       "0  479  Subscriber        1977       1\n",
       "1  417  Subscriber        1974       2\n",
       "2  327  Subscriber        1990       1\n",
       "3  515  Subscriber        1966       1\n",
       "4  497  Subscriber        1979       1"
      ]
     },
     "execution_count": 7,
     "metadata": {},
     "output_type": "execute_result"
    }
   ],
   "source": [
    "tinyTrips.head()"
   ]
  },
  {
   "cell_type": "code",
   "execution_count": 11,
   "metadata": {
    "collapsed": false
   },
   "outputs": [
    {
     "name": "stderr",
     "output_type": "stream",
     "text": [
      "/Users/casy/anaconda/lib/python2.7/site-packages/ipykernel/__main__.py:1: SettingWithCopyWarning: \n",
      "A value is trying to be set on a copy of a slice from a DataFrame.\n",
      "Try using .loc[row_indexer,col_indexer] = value instead\n",
      "\n",
      "See the the caveats in the documentation: http://pandas.pydata.org/pandas-docs/stable/indexing.html#indexing-view-versus-copy\n",
      "  if __name__ == '__main__':\n"
     ]
    },
    {
     "data": {
      "text/html": [
       "<div>\n",
       "<table border=\"1\" class=\"dataframe\">\n",
       "  <thead>\n",
       "    <tr style=\"text-align: right;\">\n",
       "      <th></th>\n",
       "      <th>sid</th>\n",
       "      <th>usertype</th>\n",
       "      <th>birth year</th>\n",
       "      <th>gender</th>\n",
       "      <th>age</th>\n",
       "    </tr>\n",
       "  </thead>\n",
       "  <tbody>\n",
       "    <tr>\n",
       "      <th>0</th>\n",
       "      <td>479</td>\n",
       "      <td>Subscriber</td>\n",
       "      <td>1977</td>\n",
       "      <td>1</td>\n",
       "      <td>38</td>\n",
       "    </tr>\n",
       "    <tr>\n",
       "      <th>1</th>\n",
       "      <td>417</td>\n",
       "      <td>Subscriber</td>\n",
       "      <td>1974</td>\n",
       "      <td>2</td>\n",
       "      <td>41</td>\n",
       "    </tr>\n",
       "    <tr>\n",
       "      <th>2</th>\n",
       "      <td>327</td>\n",
       "      <td>Subscriber</td>\n",
       "      <td>1990</td>\n",
       "      <td>1</td>\n",
       "      <td>25</td>\n",
       "    </tr>\n",
       "    <tr>\n",
       "      <th>3</th>\n",
       "      <td>515</td>\n",
       "      <td>Subscriber</td>\n",
       "      <td>1966</td>\n",
       "      <td>1</td>\n",
       "      <td>49</td>\n",
       "    </tr>\n",
       "    <tr>\n",
       "      <th>4</th>\n",
       "      <td>497</td>\n",
       "      <td>Subscriber</td>\n",
       "      <td>1979</td>\n",
       "      <td>1</td>\n",
       "      <td>36</td>\n",
       "    </tr>\n",
       "  </tbody>\n",
       "</table>\n",
       "</div>"
      ],
      "text/plain": [
       "   sid    usertype  birth year  gender  age\n",
       "0  479  Subscriber        1977       1   38\n",
       "1  417  Subscriber        1974       2   41\n",
       "2  327  Subscriber        1990       1   25\n",
       "3  515  Subscriber        1966       1   49\n",
       "4  497  Subscriber        1979       1   36"
      ]
     },
     "execution_count": 11,
     "metadata": {},
     "output_type": "execute_result"
    }
   ],
   "source": [
    "tinyTrips['age'] = 2015 - tinyTrips['birth year']\n",
    "tinyTrips.head()"
   ]
  },
  {
   "cell_type": "code",
   "execution_count": 13,
   "metadata": {
    "collapsed": false
   },
   "outputs": [
    {
     "data": {
      "text/plain": [
       "<matplotlib.axes._subplots.AxesSubplot at 0x1075e4390>"
      ]
     },
     "execution_count": 13,
     "metadata": {},
     "output_type": "execute_result"
    },
    {
     "data": {
      "image/png": "[encoded data removed]",
      "text/plain": [
       "<matplotlib.figure.Figure at 0x1075baf50>"
      ]
     },
     "metadata": {},
     "output_type": "display_data"
    }
   ],
   "source": [
    "tinyTrips['age'].hist(bins=20);"
   ]
  },
  {
   "cell_type": "code",
   "execution_count": null,
   "metadata": {
    "collapsed": true
   },
   "outputs": [],
   "source": []
  }
 ],
 "metadata": {
  "kernelspec": {
   "display_name": "Python 2",
   "language": "python",
   "name": "python2"
  },
  "language_info": {
   "codemirror_mode": {
    "name": "ipython",
    "version": 2
   },
   "file_extension": ".py",
   "mimetype": "text/x-python",
   "name": "python",
   "nbconvert_exporter": "python",
   "pygments_lexer": "ipython2",
   "version": "2.7.10"
  }
 },
 "nbformat": 4,
 "nbformat_minor": 0
}
