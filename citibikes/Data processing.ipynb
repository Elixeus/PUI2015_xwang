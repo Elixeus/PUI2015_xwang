{
 "cells": [
  {
   "cell_type": "code",
   "execution_count": 55,
   "metadata": {
    "collapsed": false
   },
   "outputs": [
    {
     "name": "stdout",
     "output_type": "stream",
     "text": [
      "Populating the interactive namespace from numpy and matplotlib\n"
     ]
    }
   ],
   "source": [
    "import pandas as pd\n",
    "import geopandas as gp\n",
    "import matplotlib.pyplot as plt\n",
    "import requests\n",
    "from shapely.geometry import Point, MultiPolygon\n",
    "\n",
    "%pylab inline\n",
    "plt.figsize=(10,10)"
   ]
  },
  {
   "cell_type": "markdown",
   "metadata": {},
   "source": [
    "## I. Loading and processing stations data"
   ]
  },
  {
   "cell_type": "code",
   "execution_count": 30,
   "metadata": {
    "collapsed": false
   },
   "outputs": [
    {
     "data": {
      "text/html": [
       "<div>\n",
       "<table border=\"1\" class=\"dataframe\">\n",
       "  <thead>\n",
       "    <tr style=\"text-align: right;\">\n",
       "      <th></th>\n",
       "      <th>altitude</th>\n",
       "      <th>availableBikes</th>\n",
       "      <th>availableDocks</th>\n",
       "      <th>city</th>\n",
       "      <th>id</th>\n",
       "      <th>landMark</th>\n",
       "      <th>lastCommunicationTime</th>\n",
       "      <th>latitude</th>\n",
       "      <th>location</th>\n",
       "      <th>longitude</th>\n",
       "      <th>postalCode</th>\n",
       "      <th>stAddress1</th>\n",
       "      <th>stAddress2</th>\n",
       "      <th>stationName</th>\n",
       "      <th>statusKey</th>\n",
       "      <th>statusValue</th>\n",
       "      <th>testStation</th>\n",
       "      <th>totalDocks</th>\n",
       "    </tr>\n",
       "  </thead>\n",
       "  <tbody>\n",
       "    <tr>\n",
       "      <th>0</th>\n",
       "      <td></td>\n",
       "      <td>7</td>\n",
       "      <td>32</td>\n",
       "      <td></td>\n",
       "      <td>72</td>\n",
       "      <td></td>\n",
       "      <td>2015-10-04 05:36:10 PM</td>\n",
       "      <td>40.767272</td>\n",
       "      <td></td>\n",
       "      <td>-73.993929</td>\n",
       "      <td></td>\n",
       "      <td>W 52 St &amp; 11 Ave</td>\n",
       "      <td></td>\n",
       "      <td>W 52 St &amp; 11 Ave</td>\n",
       "      <td>1</td>\n",
       "      <td>In Service</td>\n",
       "      <td>False</td>\n",
       "      <td>39</td>\n",
       "    </tr>\n",
       "    <tr>\n",
       "      <th>1</th>\n",
       "      <td></td>\n",
       "      <td>29</td>\n",
       "      <td>3</td>\n",
       "      <td></td>\n",
       "      <td>79</td>\n",
       "      <td></td>\n",
       "      <td>2015-10-04 05:36:51 PM</td>\n",
       "      <td>40.719116</td>\n",
       "      <td></td>\n",
       "      <td>-74.006667</td>\n",
       "      <td></td>\n",
       "      <td>Franklin St &amp; W Broadway</td>\n",
       "      <td></td>\n",
       "      <td>Franklin St &amp; W Broadway</td>\n",
       "      <td>1</td>\n",
       "      <td>In Service</td>\n",
       "      <td>False</td>\n",
       "      <td>33</td>\n",
       "    </tr>\n",
       "  </tbody>\n",
       "</table>\n",
       "</div>"
      ],
      "text/plain": [
       "  altitude  availableBikes  availableDocks city  id landMark  \\\n",
       "0                        7              32       72            \n",
       "1                       29               3       79            \n",
       "\n",
       "    lastCommunicationTime   latitude location  longitude postalCode  \\\n",
       "0  2015-10-04 05:36:10 PM  40.767272          -73.993929              \n",
       "1  2015-10-04 05:36:51 PM  40.719116          -74.006667              \n",
       "\n",
       "                 stAddress1 stAddress2               stationName  statusKey  \\\n",
       "0          W 52 St & 11 Ave                     W 52 St & 11 Ave          1   \n",
       "1  Franklin St & W Broadway             Franklin St & W Broadway          1   \n",
       "\n",
       "  statusValue testStation  totalDocks  \n",
       "0  In Service       False          39  \n",
       "1  In Service       False          33  "
      ]
     },
     "execution_count": 30,
     "metadata": {},
     "output_type": "execute_result"
    }
   ],
   "source": [
    "url_stations = 'http://www.citibikenyc.com/stations/json'\n",
    "json_stations = requests.get(url_stations).json()\n",
    "\n",
    "stations = pd.DataFrame(json_stations['stationBeanList'])\n",
    "stations.head(2)"
   ]
  },
  {
   "cell_type": "code",
   "execution_count": 31,
   "metadata": {
    "collapsed": false
   },
   "outputs": [],
   "source": [
    "stations['geometry'] = stations.apply(lambda z: Point(z.longitude, z.latitude), axis=1)\n",
    "stations = gp.GeoDataFrame(stations)"
   ]
  },
  {
   "cell_type": "markdown",
   "metadata": {},
   "source": [
    "## II. Loading Boundaries "
   ]
  },
  {
   "cell_type": "code",
   "execution_count": 32,
   "metadata": {
    "collapsed": true
   },
   "outputs": [],
   "source": [
    "boroughs = gp.read_file('/Users/casy/Dropbox/CUSP/1_1_PUI/PUI_Bycicle_Research/data/nybb_15c/nybb.shp')\n",
    "boroughs.to_crs(epsg=4236, inplace=True)"
   ]
  },
  {
   "cell_type": "code",
   "execution_count": 33,
   "metadata": {
    "collapsed": false
   },
   "outputs": [
    {
     "data": {
      "image/png": "[encoded data removed]",
      "text/plain": [
       "<matplotlib.figure.Figure at 0x11036cad0>"
      ]
     },
     "metadata": {},
     "output_type": "display_data"
    }
   ],
   "source": [
    "boroughs.plot();\n",
    "stations.plot();"
   ]
  },
  {
   "cell_type": "markdown",
   "metadata": {},
   "source": [
    "## III. Categorise stations by borough\n"
   ]
  },
  {
   "cell_type": "code",
   "execution_count": 34,
   "metadata": {
    "collapsed": false
   },
   "outputs": [],
   "source": [
    "def BoroIntersect(boro):\n",
    "    global stations\n",
    "#     print boro.BoroCode\n",
    "    bName = boro.BoroName\n",
    "    p = MultiPolygon(boro.geometry)\n",
    "\n",
    "    stations[bName] = stations.intersects(p)\n",
    "\n",
    "boroughs.apply(lambda b: BoroIntersect(b),1);       "
   ]
  },
  {
   "cell_type": "code",
   "execution_count": 35,
   "metadata": {
    "collapsed": false
   },
   "outputs": [
    {
     "data": {
      "text/plain": [
       "Manhattan    248\n",
       "Brooklyn     137\n",
       "Queens         8\n",
       "dtype: int64"
      ]
     },
     "execution_count": 35,
     "metadata": {},
     "output_type": "execute_result"
    }
   ],
   "source": [
    "def getBName(station):\n",
    "    bs = [u'Brooklyn', u'Manhattan', u'Bronx', u'Queens', u'Staten Island']\n",
    "    name = None\n",
    "    for b in bs:\n",
    "        if station[b]: name = b\n",
    "\n",
    "    return name\n",
    "\n",
    "stations['Boro']= stations.apply(lambda x: getBName(x), 1);\n",
    "stations['Boro'].value_counts()"
   ]
  },
  {
   "cell_type": "code",
   "execution_count": 36,
   "metadata": {
    "collapsed": false
   },
   "outputs": [
    {
     "data": {
      "text/plain": [
       "Index([             u'altitude',        u'availableBikes',\n",
       "              u'availableDocks',                  u'city',\n",
       "                          u'id',              u'landMark',\n",
       "       u'lastCommunicationTime',              u'latitude',\n",
       "                    u'location',             u'longitude',\n",
       "                  u'postalCode',            u'stAddress1',\n",
       "                  u'stAddress2',           u'stationName',\n",
       "                   u'statusKey',           u'statusValue',\n",
       "                 u'testStation',            u'totalDocks',\n",
       "                    u'geometry',                  u'Boro'],\n",
       "      dtype='object')"
      ]
     },
     "execution_count": 36,
     "metadata": {},
     "output_type": "execute_result"
    }
   ],
   "source": [
    "stations.drop([u'Brooklyn', u'Manhattan', u'Bronx', u'Queens', u'Staten Island'], axis=1, inplace=True)\n",
    "stations.columns"
   ]
  },
  {
   "cell_type": "code",
   "execution_count": 38,
   "metadata": {
    "collapsed": false
   },
   "outputs": [
    {
     "name": "stdout",
     "output_type": "stream",
     "text": [
      "Before: 508\n",
      "After: 393\n"
     ]
    }
   ],
   "source": [
    "print 'Before:', len(stations)\n",
    "stations = stations[pd.notnull(stations['Boro'])]\n",
    "print 'After:', len(stations)"
   ]
  },
  {
   "cell_type": "code",
   "execution_count": 57,
   "metadata": {
    "collapsed": false
   },
   "outputs": [
    {
     "data": {
      "text/html": [
       "<div>\n",
       "<table border=\"1\" class=\"dataframe\">\n",
       "  <thead>\n",
       "    <tr style=\"text-align: right;\">\n",
       "      <th></th>\n",
       "      <th>altitude</th>\n",
       "      <th>availableBikes</th>\n",
       "      <th>availableDocks</th>\n",
       "      <th>city</th>\n",
       "      <th>id</th>\n",
       "      <th>landMark</th>\n",
       "      <th>lastCommunicationTime</th>\n",
       "      <th>latitude</th>\n",
       "      <th>location</th>\n",
       "      <th>longitude</th>\n",
       "      <th>postalCode</th>\n",
       "      <th>stAddress1</th>\n",
       "      <th>stAddress2</th>\n",
       "      <th>stationName</th>\n",
       "      <th>statusKey</th>\n",
       "      <th>statusValue</th>\n",
       "      <th>testStation</th>\n",
       "      <th>totalDocks</th>\n",
       "      <th>geometry</th>\n",
       "      <th>Boro</th>\n",
       "    </tr>\n",
       "  </thead>\n",
       "  <tbody>\n",
       "    <tr>\n",
       "      <th>1</th>\n",
       "      <td></td>\n",
       "      <td>29</td>\n",
       "      <td>3</td>\n",
       "      <td></td>\n",
       "      <td>79</td>\n",
       "      <td></td>\n",
       "      <td>2015-10-04 05:36:51 PM</td>\n",
       "      <td>40.719116</td>\n",
       "      <td></td>\n",
       "      <td>-74.006667</td>\n",
       "      <td></td>\n",
       "      <td>Franklin St &amp; W Broadway</td>\n",
       "      <td></td>\n",
       "      <td>Franklin St &amp; W Broadway</td>\n",
       "      <td>1</td>\n",
       "      <td>In Service</td>\n",
       "      <td>False</td>\n",
       "      <td>33</td>\n",
       "      <td>POINT (-74.00666661 40.71911552)</td>\n",
       "      <td>Manhattan</td>\n",
       "    </tr>\n",
       "    <tr>\n",
       "      <th>2</th>\n",
       "      <td></td>\n",
       "      <td>19</td>\n",
       "      <td>8</td>\n",
       "      <td></td>\n",
       "      <td>82</td>\n",
       "      <td></td>\n",
       "      <td>2015-10-04 05:36:23 PM</td>\n",
       "      <td>40.711174</td>\n",
       "      <td></td>\n",
       "      <td>-74.000165</td>\n",
       "      <td></td>\n",
       "      <td>St James Pl &amp; Pearl St</td>\n",
       "      <td></td>\n",
       "      <td>St James Pl &amp; Pearl St</td>\n",
       "      <td>1</td>\n",
       "      <td>In Service</td>\n",
       "      <td>False</td>\n",
       "      <td>27</td>\n",
       "      <td>POINT (-74.00016545 40.71117416)</td>\n",
       "      <td>Manhattan</td>\n",
       "    </tr>\n",
       "    <tr>\n",
       "      <th>3</th>\n",
       "      <td></td>\n",
       "      <td>15</td>\n",
       "      <td>45</td>\n",
       "      <td></td>\n",
       "      <td>83</td>\n",
       "      <td></td>\n",
       "      <td>2015-10-04 05:35:27 PM</td>\n",
       "      <td>40.683826</td>\n",
       "      <td></td>\n",
       "      <td>-73.976323</td>\n",
       "      <td></td>\n",
       "      <td>Atlantic Ave &amp; Fort Greene Pl</td>\n",
       "      <td></td>\n",
       "      <td>Atlantic Ave &amp; Fort Greene Pl</td>\n",
       "      <td>1</td>\n",
       "      <td>In Service</td>\n",
       "      <td>False</td>\n",
       "      <td>62</td>\n",
       "      <td>POINT (-73.97632328 40.68382604)</td>\n",
       "      <td>Brooklyn</td>\n",
       "    </tr>\n",
       "    <tr>\n",
       "      <th>5</th>\n",
       "      <td></td>\n",
       "      <td>14</td>\n",
       "      <td>5</td>\n",
       "      <td></td>\n",
       "      <td>119</td>\n",
       "      <td></td>\n",
       "      <td>2015-10-04 05:33:14 PM</td>\n",
       "      <td>40.696089</td>\n",
       "      <td></td>\n",
       "      <td>-73.978034</td>\n",
       "      <td></td>\n",
       "      <td>Park Ave &amp; St Edwards St</td>\n",
       "      <td></td>\n",
       "      <td>Park Ave &amp; St Edwards St</td>\n",
       "      <td>1</td>\n",
       "      <td>In Service</td>\n",
       "      <td>False</td>\n",
       "      <td>19</td>\n",
       "      <td>POINT (-73.97803415 40.69608941)</td>\n",
       "      <td>Brooklyn</td>\n",
       "    </tr>\n",
       "    <tr>\n",
       "      <th>6</th>\n",
       "      <td></td>\n",
       "      <td>2</td>\n",
       "      <td>17</td>\n",
       "      <td></td>\n",
       "      <td>120</td>\n",
       "      <td></td>\n",
       "      <td>2015-10-04 05:36:57 PM</td>\n",
       "      <td>40.686768</td>\n",
       "      <td></td>\n",
       "      <td>-73.959282</td>\n",
       "      <td></td>\n",
       "      <td>Lexington Ave &amp; Classon Ave</td>\n",
       "      <td></td>\n",
       "      <td>Lexington Ave &amp; Classon Ave</td>\n",
       "      <td>1</td>\n",
       "      <td>In Service</td>\n",
       "      <td>False</td>\n",
       "      <td>19</td>\n",
       "      <td>POINT (-73.95928168 40.68676793)</td>\n",
       "      <td>Brooklyn</td>\n",
       "    </tr>\n",
       "    <tr>\n",
       "      <th>8</th>\n",
       "      <td></td>\n",
       "      <td>0</td>\n",
       "      <td>29</td>\n",
       "      <td></td>\n",
       "      <td>128</td>\n",
       "      <td></td>\n",
       "      <td>2015-09-24 09:23:40 AM</td>\n",
       "      <td>40.727103</td>\n",
       "      <td></td>\n",
       "      <td>-74.002971</td>\n",
       "      <td></td>\n",
       "      <td>MacDougal St &amp; Prince St</td>\n",
       "      <td></td>\n",
       "      <td>MacDougal St &amp; Prince St</td>\n",
       "      <td>3</td>\n",
       "      <td>Not In Service</td>\n",
       "      <td>False</td>\n",
       "      <td>30</td>\n",
       "      <td>POINT (-74.00297088000001 40.72710258)</td>\n",
       "      <td>Manhattan</td>\n",
       "    </tr>\n",
       "    <tr>\n",
       "      <th>9</th>\n",
       "      <td></td>\n",
       "      <td>33</td>\n",
       "      <td>13</td>\n",
       "      <td></td>\n",
       "      <td>137</td>\n",
       "      <td></td>\n",
       "      <td>2015-10-04 05:36:06 PM</td>\n",
       "      <td>40.761628</td>\n",
       "      <td></td>\n",
       "      <td>-73.972924</td>\n",
       "      <td></td>\n",
       "      <td>E 56 St &amp; Madison Ave</td>\n",
       "      <td></td>\n",
       "      <td>E 56 St &amp; Madison Ave</td>\n",
       "      <td>1</td>\n",
       "      <td>In Service</td>\n",
       "      <td>False</td>\n",
       "      <td>46</td>\n",
       "      <td>POINT (-73.97292400000001 40.761628)</td>\n",
       "      <td>Manhattan</td>\n",
       "    </tr>\n",
       "    <tr>\n",
       "      <th>10</th>\n",
       "      <td></td>\n",
       "      <td>13</td>\n",
       "      <td>11</td>\n",
       "      <td></td>\n",
       "      <td>143</td>\n",
       "      <td></td>\n",
       "      <td>2015-10-04 05:34:57 PM</td>\n",
       "      <td>40.692395</td>\n",
       "      <td></td>\n",
       "      <td>-73.993379</td>\n",
       "      <td></td>\n",
       "      <td>Clinton St &amp; Joralemon St</td>\n",
       "      <td></td>\n",
       "      <td>Clinton St &amp; Joralemon St</td>\n",
       "      <td>1</td>\n",
       "      <td>In Service</td>\n",
       "      <td>False</td>\n",
       "      <td>24</td>\n",
       "      <td>POINT (-73.99337909 40.69239502)</td>\n",
       "      <td>Brooklyn</td>\n",
       "    </tr>\n",
       "    <tr>\n",
       "      <th>11</th>\n",
       "      <td></td>\n",
       "      <td>0</td>\n",
       "      <td>18</td>\n",
       "      <td></td>\n",
       "      <td>144</td>\n",
       "      <td></td>\n",
       "      <td>2015-10-04 05:33:24 PM</td>\n",
       "      <td>40.698399</td>\n",
       "      <td></td>\n",
       "      <td>-73.980689</td>\n",
       "      <td></td>\n",
       "      <td>Nassau St &amp; Navy St</td>\n",
       "      <td></td>\n",
       "      <td>Nassau St &amp; Navy St</td>\n",
       "      <td>1</td>\n",
       "      <td>In Service</td>\n",
       "      <td>False</td>\n",
       "      <td>19</td>\n",
       "      <td>POINT (-73.98068914 40.69839895)</td>\n",
       "      <td>Brooklyn</td>\n",
       "    </tr>\n",
       "    <tr>\n",
       "      <th>14</th>\n",
       "      <td></td>\n",
       "      <td>3</td>\n",
       "      <td>28</td>\n",
       "      <td></td>\n",
       "      <td>150</td>\n",
       "      <td></td>\n",
       "      <td>2015-10-04 05:35:56 PM</td>\n",
       "      <td>40.720874</td>\n",
       "      <td></td>\n",
       "      <td>-73.980858</td>\n",
       "      <td></td>\n",
       "      <td>E 2 St &amp; Avenue C</td>\n",
       "      <td></td>\n",
       "      <td>E 2 St &amp; Avenue C</td>\n",
       "      <td>1</td>\n",
       "      <td>In Service</td>\n",
       "      <td>False</td>\n",
       "      <td>31</td>\n",
       "      <td>POINT (-73.98085795 40.7208736)</td>\n",
       "      <td>Manhattan</td>\n",
       "    </tr>\n",
       "  </tbody>\n",
       "</table>\n",
       "</div>"
      ],
      "text/plain": [
       "   altitude  availableBikes  availableDocks city   id landMark  \\\n",
       "1                        29               3        79            \n",
       "2                        19               8        82            \n",
       "3                        15              45        83            \n",
       "5                        14               5       119            \n",
       "6                         2              17       120            \n",
       "8                         0              29       128            \n",
       "9                        33              13       137            \n",
       "10                       13              11       143            \n",
       "11                        0              18       144            \n",
       "14                        3              28       150            \n",
       "\n",
       "     lastCommunicationTime   latitude location  longitude postalCode  \\\n",
       "1   2015-10-04 05:36:51 PM  40.719116          -74.006667              \n",
       "2   2015-10-04 05:36:23 PM  40.711174          -74.000165              \n",
       "3   2015-10-04 05:35:27 PM  40.683826          -73.976323              \n",
       "5   2015-10-04 05:33:14 PM  40.696089          -73.978034              \n",
       "6   2015-10-04 05:36:57 PM  40.686768          -73.959282              \n",
       "8   2015-09-24 09:23:40 AM  40.727103          -74.002971              \n",
       "9   2015-10-04 05:36:06 PM  40.761628          -73.972924              \n",
       "10  2015-10-04 05:34:57 PM  40.692395          -73.993379              \n",
       "11  2015-10-04 05:33:24 PM  40.698399          -73.980689              \n",
       "14  2015-10-04 05:35:56 PM  40.720874          -73.980858              \n",
       "\n",
       "                       stAddress1 stAddress2                    stationName  \\\n",
       "1        Franklin St & W Broadway                  Franklin St & W Broadway   \n",
       "2          St James Pl & Pearl St                    St James Pl & Pearl St   \n",
       "3   Atlantic Ave & Fort Greene Pl             Atlantic Ave & Fort Greene Pl   \n",
       "5        Park Ave & St Edwards St                  Park Ave & St Edwards St   \n",
       "6     Lexington Ave & Classon Ave               Lexington Ave & Classon Ave   \n",
       "8        MacDougal St & Prince St                  MacDougal St & Prince St   \n",
       "9           E 56 St & Madison Ave                     E 56 St & Madison Ave   \n",
       "10      Clinton St & Joralemon St                 Clinton St & Joralemon St   \n",
       "11            Nassau St & Navy St                       Nassau St & Navy St   \n",
       "14              E 2 St & Avenue C                         E 2 St & Avenue C   \n",
       "\n",
       "    statusKey     statusValue testStation  totalDocks  \\\n",
       "1           1      In Service       False          33   \n",
       "2           1      In Service       False          27   \n",
       "3           1      In Service       False          62   \n",
       "5           1      In Service       False          19   \n",
       "6           1      In Service       False          19   \n",
       "8           3  Not In Service       False          30   \n",
       "9           1      In Service       False          46   \n",
       "10          1      In Service       False          24   \n",
       "11          1      In Service       False          19   \n",
       "14          1      In Service       False          31   \n",
       "\n",
       "                                  geometry       Boro  \n",
       "1         POINT (-74.00666661 40.71911552)  Manhattan  \n",
       "2         POINT (-74.00016545 40.71117416)  Manhattan  \n",
       "3         POINT (-73.97632328 40.68382604)   Brooklyn  \n",
       "5         POINT (-73.97803415 40.69608941)   Brooklyn  \n",
       "6         POINT (-73.95928168 40.68676793)   Brooklyn  \n",
       "8   POINT (-74.00297088000001 40.72710258)  Manhattan  \n",
       "9     POINT (-73.97292400000001 40.761628)  Manhattan  \n",
       "10        POINT (-73.99337909 40.69239502)   Brooklyn  \n",
       "11        POINT (-73.98068914 40.69839895)   Brooklyn  \n",
       "14         POINT (-73.98085795 40.7208736)  Manhattan  "
      ]
     },
     "execution_count": 57,
     "metadata": {},
     "output_type": "execute_result"
    }
   ],
   "source": [
    "stations.head(10)"
   ]
  },
  {
   "cell_type": "code",
   "execution_count": 56,
   "metadata": {
    "collapsed": false
   },
   "outputs": [
    {
     "data": {
      "text/plain": [
       "<matplotlib.axes._subplots.AxesSubplot at 0x11381fed0>"
      ]
     },
     "execution_count": 56,
     "metadata": {},
     "output_type": "execute_result"
    },
    {
     "data": {
      "image/png": "[encoded data removed]",
      "text/plain": [
       "<matplotlib.figure.Figure at 0x11381fd50>"
      ]
     },
     "metadata": {},
     "output_type": "display_data"
    }
   ],
   "source": [
    "stations.plot(column='Boro',colormap='cubehelix', alpha=0.5, categorical=True)"
   ]
  },
  {
   "cell_type": "code",
   "execution_count": 59,
   "metadata": {
    "collapsed": false
   },
   "outputs": [],
   "source": [
    "with open(\"/Users/casy/Dropbox/CUSP/1_1_PUI/PUI_Bycicle_Research/data/stations.geojson\",'w') as gj:\n",
    "    gj.write(stations.to_json())"
   ]
  },
  {
   "cell_type": "code",
   "execution_count": null,
   "metadata": {
    "collapsed": true
   },
   "outputs": [],
   "source": [
    "stations/"
   ]
  }
 ],
 "metadata": {
  "kernelspec": {
   "display_name": "Python 2",
   "language": "python",
   "name": "python2"
  },
  "language_info": {
   "codemirror_mode": {
    "name": "ipython",
    "version": 2
   },
   "file_extension": ".py",
   "mimetype": "text/x-python",
   "name": "python",
   "nbconvert_exporter": "python",
   "pygments_lexer": "ipython2",
   "version": "2.7.10"
  }
 },
 "nbformat": 4,
 "nbformat_minor": 0
}
