{
 "cells": [
  {
   "cell_type": "markdown",
   "metadata": {},
   "source": [
    "# Idea: \n",
    "Citibike riders in Brooklyn are younger than riders in Manhattan\n",
    "\n",
    "\n",
    "# Hypotheses:\n",
    "- **Null hypothesis**: The distribution of ages of subscribers who start rides in Brooklyn stations is the same as subscribers who start rides in Manhattan stations\n",
    "- **Alternative hypothesis**: The distribution of ages of subscribers who start rides in Brooklyn stations is different than subscribers who start rides in Manhattan stations\n",
    "\n",
    "We define our confidence level alpha = 0.05\n"
   ]
  },
  {
   "cell_type": "code",
   "execution_count": 20,
   "metadata": {
    "collapsed": false
   },
   "outputs": [
    {
     "name": "stdout",
     "output_type": "stream",
     "text": [
      "Populating the interactive namespace from numpy and matplotlib\n"
     ]
    }
   ],
   "source": [
    "import pylab as pl\n",
    "import pandas as pd\n",
    "import numpy as np\n",
    "\n",
    "import scipy.stats\n",
    "\n",
    "import requests\n",
    "\n",
    "%pylab inline"
   ]
  },
  {
   "cell_type": "code",
   "execution_count": 21,
   "metadata": {
    "collapsed": false
   },
   "outputs": [],
   "source": [
    "s = requests.get(\"https://raw.githubusercontent.com/Casyfill/CUSP_templates/master/Py/fbMatplotlibrc.json\").json()\n",
    "pl.rcParams.update(s)"
   ]
  },
  {
   "cell_type": "markdown",
   "metadata": {},
   "source": [
    "## Reading Data"
   ]
  },
  {
   "cell_type": "code",
   "execution_count": 22,
   "metadata": {
    "collapsed": false
   },
   "outputs": [
    {
     "data": {
      "text/html": [
       "<div>\n",
       "<table border=\"1\" class=\"dataframe\">\n",
       "  <thead>\n",
       "    <tr style=\"text-align: right;\">\n",
       "      <th></th>\n",
       "      <th>sid</th>\n",
       "      <th>usertype</th>\n",
       "      <th>birth year</th>\n",
       "      <th>gender</th>\n",
       "      <th>age</th>\n",
       "    </tr>\n",
       "  </thead>\n",
       "  <tbody>\n",
       "    <tr>\n",
       "      <th>0</th>\n",
       "      <td>479</td>\n",
       "      <td>Subscriber</td>\n",
       "      <td>1977</td>\n",
       "      <td>1</td>\n",
       "      <td>38</td>\n",
       "    </tr>\n",
       "    <tr>\n",
       "      <th>1</th>\n",
       "      <td>417</td>\n",
       "      <td>Subscriber</td>\n",
       "      <td>1974</td>\n",
       "      <td>2</td>\n",
       "      <td>41</td>\n",
       "    </tr>\n",
       "    <tr>\n",
       "      <th>2</th>\n",
       "      <td>327</td>\n",
       "      <td>Subscriber</td>\n",
       "      <td>1990</td>\n",
       "      <td>1</td>\n",
       "      <td>25</td>\n",
       "    </tr>\n",
       "    <tr>\n",
       "      <th>3</th>\n",
       "      <td>515</td>\n",
       "      <td>Subscriber</td>\n",
       "      <td>1966</td>\n",
       "      <td>1</td>\n",
       "      <td>49</td>\n",
       "    </tr>\n",
       "  </tbody>\n",
       "</table>\n",
       "</div>"
      ],
      "text/plain": [
       "   sid    usertype  birth year  gender  age\n",
       "0  479  Subscriber        1977       1   38\n",
       "1  417  Subscriber        1974       2   41\n",
       "2  327  Subscriber        1990       1   25\n",
       "3  515  Subscriber        1966       1   49"
      ]
     },
     "execution_count": 22,
     "metadata": {},
     "output_type": "execute_result"
    }
   ],
   "source": [
    "# Reading in the Citi Bike trip data from Oct 2014\n",
    "trips = pd.read_csv('https://raw.githubusercontent.com/Casyfill/PUI_Bycicle_Research/master/data/r_trips.csv',index_col=0 )\n",
    "\n",
    "trips.head(4)"
   ]
  },
  {
   "cell_type": "code",
   "execution_count": 23,
   "metadata": {
    "collapsed": false
   },
   "outputs": [
    {
     "data": {
      "text/html": [
       "<div>\n",
       "<table border=\"1\" class=\"dataframe\">\n",
       "  <thead>\n",
       "    <tr style=\"text-align: right;\">\n",
       "      <th></th>\n",
       "      <th>Y</th>\n",
       "      <th>sid</th>\n",
       "      <th>lat</th>\n",
       "      <th>lon</th>\n",
       "      <th>boro</th>\n",
       "    </tr>\n",
       "    <tr>\n",
       "      <th>X</th>\n",
       "      <th></th>\n",
       "      <th></th>\n",
       "      <th></th>\n",
       "      <th></th>\n",
       "      <th></th>\n",
       "    </tr>\n",
       "  </thead>\n",
       "  <tbody>\n",
       "    <tr>\n",
       "      <th>-73.976323</th>\n",
       "      <td>40.683826</td>\n",
       "      <td>83</td>\n",
       "      <td>40.683826</td>\n",
       "      <td>-73.976323</td>\n",
       "      <td>BK</td>\n",
       "    </tr>\n",
       "    <tr>\n",
       "      <th>-73.978034</th>\n",
       "      <td>40.696089</td>\n",
       "      <td>119</td>\n",
       "      <td>40.696089</td>\n",
       "      <td>-73.978034</td>\n",
       "      <td>BK</td>\n",
       "    </tr>\n",
       "    <tr>\n",
       "      <th>-73.959282</th>\n",
       "      <td>40.686768</td>\n",
       "      <td>120</td>\n",
       "      <td>40.686768</td>\n",
       "      <td>-73.959282</td>\n",
       "      <td>BK</td>\n",
       "    </tr>\n",
       "    <tr>\n",
       "      <th>-73.993379</th>\n",
       "      <td>40.692395</td>\n",
       "      <td>143</td>\n",
       "      <td>40.692395</td>\n",
       "      <td>-73.993379</td>\n",
       "      <td>BK</td>\n",
       "    </tr>\n",
       "    <tr>\n",
       "      <th>-73.980689</th>\n",
       "      <td>40.698399</td>\n",
       "      <td>144</td>\n",
       "      <td>40.698399</td>\n",
       "      <td>-73.980689</td>\n",
       "      <td>BK</td>\n",
       "    </tr>\n",
       "  </tbody>\n",
       "</table>\n",
       "</div>"
      ],
      "text/plain": [
       "                    Y  sid        lat        lon boro\n",
       "X                                                    \n",
       "-73.976323  40.683826   83  40.683826 -73.976323   BK\n",
       "-73.978034  40.696089  119  40.696089 -73.978034   BK\n",
       "-73.959282  40.686768  120  40.686768 -73.959282   BK\n",
       "-73.993379  40.692395  143  40.692395 -73.993379   BK\n",
       "-73.980689  40.698399  144  40.698399 -73.980689   BK"
      ]
     },
     "execution_count": 23,
     "metadata": {},
     "output_type": "execute_result"
    }
   ],
   "source": [
    "# Reading in the csv of stations that have been joined with their borough (MH and BK only)\n",
    "stations = pd.read_csv('https://raw.githubusercontent.com/Casyfill/PUI_Bycicle_Research/master/data/stations.csv', index_col=0 )\n",
    "stations.head(5)"
   ]
  },
  {
   "cell_type": "code",
   "execution_count": 24,
   "metadata": {
    "collapsed": true
   },
   "outputs": [],
   "source": [
    "# Subsetting the trips data to only look at Subscribers and people with reasonable birth years\n",
    "trips = trips[(trips['usertype']=='Subscriber')&(trips['birth year']>1925)]"
   ]
  },
  {
   "cell_type": "code",
   "execution_count": 25,
   "metadata": {
    "collapsed": false
   },
   "outputs": [],
   "source": [
    "trips = trips.merge(stations[['sid','boro']], how='inner', on='sid')"
   ]
  },
  {
   "cell_type": "code",
   "execution_count": 26,
   "metadata": {
    "collapsed": true
   },
   "outputs": [],
   "source": [
    "# Calculating the median age of riders from trips beginning at each sid\n",
    "MH = trips[trips['boro']== 'MH']\n",
    "BK = trips[trips['boro']== 'BK']\n",
    "bins = np.arange(0, 100, 5)"
   ]
  },
  {
   "cell_type": "code",
   "execution_count": 27,
   "metadata": {
    "collapsed": false
   },
   "outputs": [
    {
     "data": {
      "image/png": "[encoded data removed]",
      "text/plain": [
       "<matplotlib.figure.Figure at 0x10b17b250>"
      ]
     },
     "metadata": {},
     "output_type": "display_data"
    },
    {
     "data": {
      "image/png": "[encoded data removed]",
      "text/plain": [
       "<matplotlib.figure.Figure at 0x10af51350>"
      ]
     },
     "metadata": {},
     "output_type": "display_data"
    }
   ],
   "source": [
    "# MH['age'].hist(alpha=0.6);\n",
    "# BK['age'].hist(alpha=0.6);\n",
    "BK.age.groupby(pd.cut(BK.age, bins)).agg([count_nonzero]).plot(kind='bar', legend=0);\n",
    "MH.age.groupby(pd.cut(MH.age, bins)).agg([count_nonzero]).plot(kind='bar', legend=0);"
   ]
  },
  {
   "cell_type": "code",
   "execution_count": 28,
   "metadata": {
    "collapsed": false
   },
   "outputs": [],
   "source": [
    "# Creating cummulative distributions for BK and MH\n",
    "cMH = MH.age.groupby(pd.cut(MH.age, bins)).agg([count_nonzero]).cumsum()\n",
    "cBK = BK.age.groupby(pd.cut(BK.age, bins)).agg([count_nonzero]).cumsum()\n"
   ]
  },
  {
   "cell_type": "code",
   "execution_count": 29,
   "metadata": {
    "collapsed": false
   },
   "outputs": [
    {
     "data": {
      "text/plain": [
       "<matplotlib.legend.Legend at 0x10b17b310>"
      ]
     },
     "execution_count": 29,
     "metadata": {},
     "output_type": "execute_result"
    },
    {
     "data": {
      "image/png": "[encoded data removed]",
      "text/plain": [
       "<matplotlib.figure.Figure at 0x10536ce90>"
      ]
     },
     "metadata": {},
     "output_type": "display_data"
    }
   ],
   "source": [
    "pl.plot(bins[:-1] + 2.5, cMH / cMH.max(), label = \"Manhattan\");\n",
    "pl.plot(bins[:-1] + 2.5, cBK / cBK.max(), label = \"Brooklyn\");\n",
    "pl.legend()\n"
   ]
  },
  {
   "cell_type": "markdown",
   "metadata": {},
   "source": [
    "# Runnning a T-test and K-S test to compare the samples"
   ]
  },
  {
   "cell_type": "code",
   "execution_count": 30,
   "metadata": {
    "collapsed": false
   },
   "outputs": [
    {
     "name": "stdout",
     "output_type": "stream",
     "text": [
      "K-S Statistic: 0.081676\n",
      "p value: 0.0\n"
     ]
    }
   ],
   "source": [
    "\n",
    "ks = scipy.stats.ks_2samp(MH.age, BK.age)\n",
    "print 'K-S Statistic:', round(ks[0],6)\n",
    "print 'p value:', round(ks[1],6)"
   ]
  },
  {
   "cell_type": "markdown",
   "metadata": {
    "collapsed": false
   },
   "source": [
    "## Conclusion:\n",
    "The p-value of 0.03877 is less than our signficance level alpha = 0.05, therefore we reject the null hypothesis that the distribution of ages for Manhattan and Brooklyn riders look the same.\n",
    "\n"
   ]
  },
  {
   "cell_type": "markdown",
   "metadata": {},
   "source": [
    "# Let's do a T-test now!\n",
    "\n",
    "Null hypothesis:\n",
    "The average age of subscribers who start rides in Brooklyn stations is greater or the same as subscribers who start rides in Manhattan stations\n",
    "\n",
    "Alternative hypothesis:\n",
    "The average of subscribers who start rides in Brooklyn stations is lower than that of subscribers who start rides in Manhattan stations\n",
    "\n",
    "Assumptions: we assume that the two samples are independently randomly selected samples and that October 2014, which is our chosen month of data, is a representative month. We also assume the age distribution is more or less normal for both populations.\n",
    "\n",
    "alpha = 0.05"
   ]
  },
  {
   "cell_type": "code",
   "execution_count": 31,
   "metadata": {
    "collapsed": false
   },
   "outputs": [],
   "source": [
    "boro_merge = trips.groupby(['boro'], as_index=False).agg(['mean','count'])"
   ]
  },
  {
   "cell_type": "code",
   "execution_count": 32,
   "metadata": {
    "collapsed": false
   },
   "outputs": [
    {
     "name": "stdout",
     "output_type": "stream",
     "text": [
      "           mean   count\n",
      "boro                   \n",
      "BK    37.403444   45766\n",
      "MH    38.629209  707170\n"
     ]
    }
   ],
   "source": [
    "#let's take a quick look at the count and average age\n",
    "print boro_merge['age']"
   ]
  },
  {
   "cell_type": "code",
   "execution_count": 33,
   "metadata": {
    "collapsed": false
   },
   "outputs": [
    {
     "data": {
      "text/plain": [
       "<matplotlib.legend.Legend at 0x10af7a0d0>"
      ]
     },
     "execution_count": 33,
     "metadata": {},
     "output_type": "execute_result"
    },
    {
     "data": {
      "image/png": "[encoded data removed]",
      "text/plain": [
       "<matplotlib.figure.Figure at 0x107ed3a50>"
      ]
     },
     "metadata": {},
     "output_type": "display_data"
    }
   ],
   "source": [
    "#let's visualize this data.\n",
    "mergedtrips = trips\n",
    "fig=pl.figure(figsize(15,15))\n",
    "\n",
    "counts_BK= mergedtrips.boro[mergedtrips.boro=='BK'].groupby([mergedtrips.age]).count()\n",
    "counts_MH= mergedtrips.boro[mergedtrips.boro=='MH'].groupby([mergedtrips.age]).count()\n",
    "\n",
    "norm_BK = counts_BK.sum()\n",
    "error_BK=np.sqrt(counts_BK)\n",
    "ax = ((counts_BK)/norm_BK).plot(kind=\"bar\",color='IndianRed',  yerr=[((error_BK)/norm_BK,(error_BK)/norm_BK)], label='BK bikers')\n",
    "\n",
    "\n",
    "norm_MH = counts_MH.sum()\n",
    "error_MH=np.sqrt(counts_MH)\n",
    "ax = ((counts_MH)/norm_MH).plot(kind=\"bar\", alpha=0.5, yerr=[((error_MH)/norm_MH,(error_MH)/norm_MH)], label='MH bikers')\n",
    "\n",
    "pl.legend(['BK bikers','MH bikers'],fontsize=20)"
   ]
  },
  {
   "cell_type": "code",
   "execution_count": 34,
   "metadata": {
    "collapsed": false
   },
   "outputs": [],
   "source": [
    "df_BK = mergedtrips[mergedtrips['boro'] == 'BK']['age']\n",
    "df_MH = mergedtrips[mergedtrips['boro'] == 'MH']['age']"
   ]
  },
  {
   "cell_type": "code",
   "execution_count": 35,
   "metadata": {
    "collapsed": false
   },
   "outputs": [
    {
     "name": "stdout",
     "output_type": "stream",
     "text": [
      "Ttest_indResult(statistic=-22.323218963052874, pvalue=2.3884394725417008e-110)\n"
     ]
    }
   ],
   "source": [
    "#finally, run a T-Test on these two sample data sets\n",
    "result = scipy.stats.ttest_ind(df_BK,df_MH)\n",
    "print result"
   ]
  },
  {
   "cell_type": "code",
   "execution_count": 36,
   "metadata": {
    "collapsed": false
   },
   "outputs": [
    {
     "name": "stdout",
     "output_type": "stream",
     "text": [
      "Yeah! We can reject Null hypotesis now!\n"
     ]
    }
   ],
   "source": [
    "if result[1]<.05:\n",
    "    print 'Yeah! We can reject Null hypotesis now!'"
   ]
  },
  {
   "cell_type": "markdown",
   "metadata": {},
   "source": [
    "## Conclusion\n",
    "\n",
    "our t-statistic yields a very small p-value (2.38E-110) which is much less than our chosen alpha of 0.05. Therefore, we reject the null hypothesis. Brooklyn riders are on average younger than Manhattan riders!"
   ]
  },
  {
   "cell_type": "code",
   "execution_count": null,
   "metadata": {
    "collapsed": true
   },
   "outputs": [],
   "source": []
  }
 ],
 "metadata": {
  "kernelspec": {
   "display_name": "Python 2",
   "language": "python",
   "name": "python2"
  },
  "language_info": {
   "codemirror_mode": {
    "name": "ipython",
    "version": 2
   },
   "file_extension": ".py",
   "mimetype": "text/x-python",
   "name": "python",
   "nbconvert_exporter": "python",
   "pygments_lexer": "ipython2",
   "version": "2.7.10"
  }
 },
 "nbformat": 4,
 "nbformat_minor": 0
}
