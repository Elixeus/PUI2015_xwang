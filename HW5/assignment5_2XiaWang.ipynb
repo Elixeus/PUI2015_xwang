{
 "cells": [
  {
   "cell_type": "code",
   "execution_count": 56,
   "metadata": {
    "collapsed": true
   },
   "outputs": [],
   "source": [
    "import pandas as pd\n",
    "import sys\n",
    "import os\n",
    "import numpy as np\n",
    "import matplotlib.pyplot as plt\n",
    "import os\n",
    "%matplotlib inline\n",
    "import statsmodels.api as sm"
   ]
  },
  {
   "cell_type": "code",
   "execution_count": 15,
   "metadata": {
    "collapsed": false
   },
   "outputs": [
    {
     "data": {
      "text/html": [
       "\n",
       "        <iframe\n",
       "            width=\"400\"\n",
       "            height=\"300\"\n",
       "            src=\"https://www.youtube.com/embed/G_ikzQM93W8\"\n",
       "            frameborder=\"0\"\n",
       "            allowfullscreen\n",
       "        ></iframe>\n",
       "        "
      ],
      "text/plain": [
       "<IPython.lib.display.YouTubeVideo at 0x28163edd0>"
      ]
     },
     "execution_count": 15,
     "metadata": {},
     "output_type": "execute_result"
    }
   ],
   "source": [
    "# nice little module to import youtube videos!\n",
    "from IPython.display import YouTubeVideo\n",
    "YouTubeVideo(\"G_ikzQM93W8\")"
   ]
  },
  {
   "cell_type": "code",
   "execution_count": 16,
   "metadata": {
    "collapsed": true
   },
   "outputs": [],
   "source": [
    "#to use the url just pass it to pandas read_excell\n",
    "url=\"http://cosmo.nyu.edu/~fb55/UI_CUSP_2015/data/\"\n",
    "#split your data by male and female, for example you can load the data into 2 disctionary. other variables may be relevant: for example race.\n",
    "#the names are not informative, and i am not giving you any meta data to find out what is in each file. \n",
    "# 08_2 files are male, 08_3 are female, and I am leaving in the lines of code that read the male files into races\n",
    "\n",
    "allmales={}\n",
    "allfemales={}\n",
    "allmales['all']=pd.read_excel(url+'/pinc08_2_1_1.xls',header=9)#%s/pinc03_2_1_1.xls'%url, header=9)\n",
    "allmales['white']=pd.read_excel(url+'/pinc08_2_1_4.xls', header=9)\n",
    "allmales['black']=pd.read_excel(url+'/pinc08_2_1_6.xls', header=9)\n",
    "allmales['hispanic']=pd.read_excel(url+'/pinc08_2_1_9.xls', header=9)\n",
    "allmales['asian']=pd.read_excel(url+'/pinc08_2_1_8.xls', header=9)\n",
    "#add all female races to the dictionary\n",
    "allfemales['all']=pd.read_excel(url+'/pinc08_3_1_1.xls',header=9)\n",
    "allfemales['white']=pd.read_excel(url+'/pinc08_3_1_4.xls', header=9)\n",
    "allfemales['black']=pd.read_excel(url+'/pinc08_3_1_6.xls', header=9)\n",
    "allfemales['hispanic']=pd.read_excel(url+'/pinc08_3_1_9.xls', header=9)\n",
    "allfemales['asian']=pd.read_excel(url+'/pinc08_3_1_8.xls', header=9)\n"
   ]
  },
  {
   "cell_type": "code",
   "execution_count": 17,
   "metadata": {
    "collapsed": false
   },
   "outputs": [],
   "source": [
    "from pandas.tools.plotting import scatter_matrix"
   ]
  },
  {
   "cell_type": "code",
   "execution_count": 21,
   "metadata": {
    "collapsed": false
   },
   "outputs": [],
   "source": [
    "for k in allmales:\n",
    "    nonreal  = allmales[k].applymap(np.isreal)\n",
    "    for c in allmales[k].columns :\n",
    "        if nonreal.sum()[c]>1 and nonreal.sum()[c]<49:\n",
    "            allmales[k][c][~nonreal[c]] = np.float('NaN')\n",
    "            allmales[k][c] = allmales[k][c].astype(float)"
   ]
  },
  {
   "cell_type": "code",
   "execution_count": 22,
   "metadata": {
    "collapsed": false
   },
   "outputs": [
    {
     "name": "stderr",
     "output_type": "stream",
     "text": [
      "/Users/eliseowang/anaconda/lib/python2.7/site-packages/IPython/kernel/__main__.py:5: SettingWithCopyWarning: \n",
      "A value is trying to be set on a copy of a slice from a DataFrame\n",
      "\n",
      "See the the caveats in the documentation: http://pandas.pydata.org/pandas-docs/stable/indexing.html#indexing-view-versus-copy\n"
     ]
    }
   ],
   "source": [
    "for k in allfemales:\n",
    "    nonreal  = allfemales[k].applymap(np.isreal)\n",
    "    for c in allfemales[k].columns :\n",
    "        if nonreal.sum()[c]>1 and nonreal.sum()[c]<49:\n",
    "            allfemales[k][c][~nonreal[c]] = np.float('NaN')\n",
    "            allfemales[k][c] = allfemales[k][c].astype(float)"
   ]
  },
  {
   "cell_type": "code",
   "execution_count": 52,
   "metadata": {
    "collapsed": false
   },
   "outputs": [],
   "source": [
    "#scatter_matrix (allmales['all'], s=300, figsize=(16, 16), diagonal='kde')"
   ]
  },
  {
   "cell_type": "code",
   "execution_count": 53,
   "metadata": {
    "collapsed": false
   },
   "outputs": [],
   "source": [
    "#scatter_matrix (allfemales['all'], s=300, figsize=(16, 16), diagonal='kde')"
   ]
  },
  {
   "cell_type": "code",
   "execution_count": 51,
   "metadata": {
    "collapsed": false
   },
   "outputs": [
    {
     "data": {
      "text/plain": [
       "[<matplotlib.lines.Line2D at 0x216e550d0>]"
      ]
     },
     "execution_count": 51,
     "metadata": {},
     "output_type": "execute_result"
    },
    {
     "data": {
      "image/png": "[encoded data removed]",
      "text/plain": [
       "<matplotlib.figure.Figure at 0x216cfdb50>"
      ]
     },
     "metadata": {},
     "output_type": "display_data"
    }
   ],
   "source": [
    "#female median income\n",
    "salfA = allfemales['all']['Median income'][1]\n",
    "salfW = allfemales['white']['Median income'][1]\n",
    "salfH = allfemales['hispanic']['Median income'][1]\n",
    "salfB = allfemales['white']['Median income'][1]\n",
    "salfY = allfemales['asian']['Median income'][1]\n",
    "#malse median income\n",
    "salmA = allmales['all']['Median income'][1]\n",
    "salmW = allmales['white']['Median income'][1]\n",
    "salmH = allmales['hispanic']['Median income'][1]\n",
    "salmB = allmales['white']['Median income'][1]\n",
    "salmY = allmales['asian']['Median income'][1]\n",
    "#plot all the female vs male median income dots\n",
    "plt.scatter(salfA, salmA, s=30, c='b', label='all')\n",
    "plt.scatter(salfW, salmW, s=30, c='grey', label='white')\n",
    "plt.scatter(salfH, salmH, s=30, c='magenta', label='hispanic')\n",
    "plt.scatter(salfB, salmB, s=30, c='black', label='black')\n",
    "plt.scatter(salfY, salmY, s=30, c='yellow', label='asian')\n",
    "plt.xlim((0, 50000))\n",
    "plt.ylim((0, 50000))\n",
    "plt.grid()\n",
    "plt.xlabel('female median income')\n",
    "plt.ylabel('male median income')\n",
    "plt.legend(loc=4)\n",
    "#plot the dividing line\n",
    "plt.plot((0,50000), (0,50000), 'r--')"
   ]
  },
  {
   "cell_type": "code",
   "execution_count": 58,
   "metadata": {
    "collapsed": false
   },
   "outputs": [
    {
     "name": "stdout",
     "output_type": "stream",
     "text": [
      "                            OLS Regression Results                            \n",
      "==============================================================================\n",
      "Dep. Variable:                      y   R-squared:                       0.977\n",
      "Model:                            OLS   Adj. R-squared:                  0.969\n",
      "Method:                 Least Squares   F-statistic:                     125.5\n",
      "Date:                Wed, 14 Oct 2015   Prob (F-statistic):            0.00152\n",
      "Time:                        03:40:34   Log-Likelihood:                -40.962\n",
      "No. Observations:                   5   AIC:                             85.92\n",
      "Df Residuals:                       3   BIC:                             85.14\n",
      "Df Model:                           1                                         \n",
      "Covariance Type:            nonrobust                                         \n",
      "==============================================================================\n",
      "                 coef    std err          t      P>|t|      [95.0% Conf. Int.]\n",
      "------------------------------------------------------------------------------\n",
      "x1             2.2576      0.202     11.204      0.002         1.616     2.899\n",
      "const      -1.446e+04   4550.784     -3.178      0.050     -2.89e+04    18.778\n",
      "==============================================================================\n",
      "Omnibus:                          nan   Durbin-Watson:                   2.393\n",
      "Prob(Omnibus):                    nan   Jarque-Bera (JB):                0.411\n",
      "Skew:                          -0.500   Prob(JB):                        0.814\n",
      "Kurtosis:                       2.012   Cond. No.                     2.04e+05\n",
      "==============================================================================\n",
      "\n",
      "Warnings:\n",
      "[1] Standard Errors assume that the covariance matrix of the errors is correctly specified.\n",
      "[2] The condition number is large, 2.04e+05. This might indicate that there are\n",
      "strong multicollinearity or other numerical problems.\n"
     ]
    }
   ],
   "source": [
    "X = [salfA, salfW, salfH, salfB, salfY]\n",
    "Y = [salmA, salmW, salmH, salmB, salmY]\n",
    "X1 = sm.add_constant(X, prepend = False)\n",
    "model1 = sm.OLS(Y, X1).fit()\n",
    "print model1.summary()\n",
    "w1, w0 = model1.params"
   ]
  },
  {
   "cell_type": "code",
   "execution_count": 63,
   "metadata": {
    "collapsed": false
   },
   "outputs": [
    {
     "data": {
      "text/plain": [
       "[<matplotlib.lines.Line2D at 0x218fef550>]"
      ]
     },
     "execution_count": 63,
     "metadata": {},
     "output_type": "execute_result"
    },
    {
     "data": {
      "image/png": "[encoded data removed]",
      "text/plain": [
       "<matplotlib.figure.Figure at 0x196bf7090>"
      ]
     },
     "metadata": {},
     "output_type": "display_data"
    }
   ],
   "source": [
    "plt.scatter(salfA, salmA, s=30, c='b', label='all')\n",
    "plt.scatter(salfW, salmW, s=30, c='grey', label='white')\n",
    "plt.scatter(salfH, salmH, s=30, c='magenta', label='hispanic')\n",
    "plt.scatter(salfB, salmB, s=30, c='black', label='black')\n",
    "plt.scatter(salfY, salmY, s=30, c='yellow', label='asian')\n",
    "plt.xlim((0, 50000))\n",
    "plt.ylim((0, 50000))\n",
    "plt.grid()\n",
    "plt.xlabel('female median income')\n",
    "plt.ylabel('male median income')\n",
    "plt.legend(loc=4)\n",
    "plt.plot((0,50000), (0,50000), 'r--')\n",
    "xl = np.arange(0,35000,1)\n",
    "yl = w1*xl + w0\n",
    "plt.plot(xl, yl, 'b')"
   ]
  },
  {
   "cell_type": "code",
   "execution_count": null,
   "metadata": {
    "collapsed": true
   },
   "outputs": [],
   "source": []
  }
 ],
 "metadata": {
  "kernelspec": {
   "display_name": "Python 2",
   "language": "python",
   "name": "python2"
  },
  "language_info": {
   "codemirror_mode": {
    "name": "ipython",
    "version": 2
   },
   "file_extension": ".py",
   "mimetype": "text/x-python",
   "name": "python",
   "nbconvert_exporter": "python",
   "pygments_lexer": "ipython2",
   "version": "2.7.10"
  }
 },
 "nbformat": 4,
 "nbformat_minor": 0
}
