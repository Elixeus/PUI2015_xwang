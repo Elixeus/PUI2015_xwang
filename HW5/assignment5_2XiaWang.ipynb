{
 "cells": [
  {
   "cell_type": "code",
   "execution_count": 2,
   "metadata": {
    "collapsed": true
   },
   "outputs": [],
   "source": [
    "import pandas as pd\n",
    "import sys\n",
    "import os\n",
    "import numpy \n",
    "import matplotlib.pyplot as plt\n",
    "import os\n",
    "%matplotlib inline"
   ]
  },
  {
   "cell_type": "code",
   "execution_count": null,
   "metadata": {
    "collapsed": false
   },
   "outputs": [],
   "source": [
    "# nice little module to import youtube videos!\n",
    "from IPython.display import YouTubeVideo\n",
    "YouTubeVideo(\"G_ikzQM93W8\")"
   ]
  },
  {
   "cell_type": "code",
   "execution_count": 7,
   "metadata": {
    "collapsed": true
   },
   "outputs": [],
   "source": [
    "#to use the url just pass it to pandas read_excell\n",
    "url=\"http://cosmo.nyu.edu/~fb55/UI_CUSP_2015/data/\"\n",
    "#split your data by male and female, for example you can load the data into 2 disctionary. other variables may be relevant: for example race.\n",
    "#the names are not informative, and i am not giving you any meta data to find out what is in each file. \n",
    "# 08_2 files are male, 08_3 are female, and I am leaving in the lines of code that read the male files into races\n",
    "\n",
    "allmales={}\n",
    "allfemales={}\n",
    "allmales['all']=pd.read_excel(url+'/pinc08_2_1_1.xls',header=9)#%s/pinc03_2_1_1.xls'%url, header=9)\n",
    "allmales['white']=pd.read_excel(url+'/pinc08_2_1_4.xls', header=9)\n",
    "allmales['black']=pd.read_excel(url+'/pinc08_2_1_6.xls', header=9)\n",
    "allmales['hispanic']=pd.read_excel(url+'/pinc08_2_1_9.xls', header=9)\n",
    "allmales['asian']=pd.read_excel(url+'/pinc08_2_1_8.xls', header=9)\n",
    "#add all female races to the dictionary\n",
    "allfemales['all']=pd.read_excel(url+'/pinc08_3_1_1.xls',header=9)\n",
    "allfemales['white']=pd.read_excel(url+'/pinc08_3_1_4.xls', header=9)\n",
    "allfemales['black']=pd.read_excel(url+'/pinc08_3_1_6.xls', header=9)\n",
    "allfemales['hispanic']=pd.read_excel(url+'/pinc08_3_1_9.xls', header=9)\n",
    "allfemales['asian']=pd.read_excel(url+'/pinc08_3_1_8.xls', header=9)\n"
   ]
  },
  {
   "cell_type": "code",
   "execution_count": null,
   "metadata": {
    "collapsed": true
   },
   "outputs": [],
   "source": []
  }
 ],
 "metadata": {
  "kernelspec": {
   "display_name": "Python 2",
   "language": "python",
   "name": "python2"
  },
  "language_info": {
   "codemirror_mode": {
    "name": "ipython",
    "version": 2
   },
   "file_extension": ".py",
   "mimetype": "text/x-python",
   "name": "python",
   "nbconvert_exporter": "python",
   "pygments_lexer": "ipython2",
   "version": "2.7.10"
  }
 },
 "nbformat": 4,
 "nbformat_minor": 0
}
