{
 "cells": [
  {
   "cell_type": "markdown",
   "metadata": {},
   "source": [
    "# Basic Python Data Structures"
   ]
  },
  {
   "cell_type": "markdown",
   "metadata": {},
   "source": [
    "---"
   ]
  },
  {
   "cell_type": "markdown",
   "metadata": {},
   "source": [
    "## Lists"
   ]
  },
  {
   "cell_type": "code",
   "execution_count": 1,
   "metadata": {
    "collapsed": false
   },
   "outputs": [
    {
     "name": "stdout",
     "output_type": "stream",
     "text": [
      "[]\n"
     ]
    }
   ],
   "source": [
    "# Lists\n",
    "# A list is an ordered collection of data\n",
    "\n",
    "# An empty list\n",
    "city = []\n",
    "print city"
   ]
  },
  {
   "cell_type": "code",
   "execution_count": 2,
   "metadata": {
    "collapsed": false
   },
   "outputs": [
    {
     "name": "stdout",
     "output_type": "stream",
     "text": [
      "['Beijing', 'San Diego', 'Istanbul', 'Moscow', 'Bangalore', 'New York']\n"
     ]
    }
   ],
   "source": [
    "# Append items to list\n",
    "city.append(\"Beijing\")\n",
    "city.append(\"San Diego\")\n",
    "city.append(\"Istanbul\")\n",
    "city.append(\"Moscow\")\n",
    "city.append(\"Bangalore\")\n",
    "city.append(\"New York\")\n",
    "print city"
   ]
  },
  {
   "cell_type": "code",
   "execution_count": 3,
   "metadata": {
    "collapsed": false
   },
   "outputs": [
    {
     "name": "stdout",
     "output_type": "stream",
     "text": [
      "Beijing\n",
      "Istanbul\n"
     ]
    }
   ],
   "source": [
    "# You can access an items by referencing its index\n",
    "print city[0]\n",
    "print city[2]"
   ]
  },
  {
   "cell_type": "code",
   "execution_count": 4,
   "metadata": {
    "collapsed": false
   },
   "outputs": [
    {
     "name": "stdout",
     "output_type": "stream",
     "text": [
      "['Beijing', 'San Diego', 'Istanbul', 'Moscow', 'Bangalore', 'Brooklyn']\n"
     ]
    }
   ],
   "source": [
    "# You can also change a value at an index\n",
    "city[5] = \"Brooklyn\"\n",
    "print city"
   ]
  },
  {
   "cell_type": "code",
   "execution_count": 5,
   "metadata": {
    "collapsed": false
   },
   "outputs": [
    {
     "name": "stdout",
     "output_type": "stream",
     "text": [
      "['Beijing', 'San Diego', 'Istanbul', 'Moscow', 'Bangalore', 'Brooklyn', 42]\n"
     ]
    }
   ],
   "source": [
    "# Lists can contain any kind of data. \n",
    "city.append(42)\n",
    "print city"
   ]
  },
  {
   "cell_type": "code",
   "execution_count": 6,
   "metadata": {
    "collapsed": false
   },
   "outputs": [
    {
     "ename": "TypeError",
     "evalue": "unsupported operand type(s) for +=: 'int' and 'str'",
     "output_type": "error",
     "traceback": [
      "\u001b[1;31m---------------------------------------------------------------------------\u001b[0m",
      "\u001b[1;31mTypeError\u001b[0m                                 Traceback (most recent call last)",
      "\u001b[1;32m<ipython-input-6-529883e35f9c>\u001b[0m in \u001b[0;36m<module>\u001b[1;34m()\u001b[0m\n\u001b[0;32m      3\u001b[0m \u001b[0mtotal\u001b[0m \u001b[1;33m=\u001b[0m \u001b[1;36m0\u001b[0m\u001b[1;33m\u001b[0m\u001b[0m\n\u001b[0;32m      4\u001b[0m \u001b[1;32mfor\u001b[0m \u001b[0mnum\u001b[0m \u001b[1;32min\u001b[0m \u001b[0mmixedList\u001b[0m\u001b[1;33m:\u001b[0m\u001b[1;33m\u001b[0m\u001b[0m\n\u001b[1;32m----> 5\u001b[1;33m     \u001b[0mtotal\u001b[0m \u001b[1;33m+=\u001b[0m \u001b[0mnum\u001b[0m\u001b[1;33m\u001b[0m\u001b[0m\n\u001b[0m\u001b[0;32m      6\u001b[0m \u001b[1;32mprint\u001b[0m \u001b[0mtotal\u001b[0m\u001b[1;33m\u001b[0m\u001b[0m\n",
      "\u001b[1;31mTypeError\u001b[0m: unsupported operand type(s) for +=: 'int' and 'str'"
     ]
    }
   ],
   "source": [
    "# But just be careful mixing different data types unless you know what you're doing.\n",
    "mixedList = [1, 2, 3, 4, 5, \"six\"]\n",
    "total = 0\n",
    "for num in mixedList:\n",
    "    total += num\n",
    "print total"
   ]
  },
  {
   "cell_type": "markdown",
   "metadata": {},
   "source": [
    "## Dictionaries"
   ]
  },
  {
   "cell_type": "code",
   "execution_count": 7,
   "metadata": {
    "collapsed": false
   },
   "outputs": [
    {
     "name": "stdout",
     "output_type": "stream",
     "text": [
      "{}\n"
     ]
    }
   ],
   "source": [
    "# Dictionaries\n",
    "# A dictionary is an unordered collection of data\n",
    "\n",
    "# An empty dictionary\n",
    "musician = {}\n",
    "print musician"
   ]
  },
  {
   "cell_type": "code",
   "execution_count": 8,
   "metadata": {
    "collapsed": false
   },
   "outputs": [
    {
     "name": "stdout",
     "output_type": "stream",
     "text": [
      "{'Kanye West': 'Hip-hop', 'Skrillex': 'Electronic', 'Drake': 'Hip-hop', 'Michael Jackson': 'Pop'}\n"
     ]
    }
   ],
   "source": [
    "# Items in dictionaries are stored as key-value pairs\n",
    "musician[\"Drake\"] = \"Hip-hop\"\n",
    "musician[\"Kanye West\"] = \"Hip-hop\"\n",
    "musician[\"Skrillex\"] = \"Electronic\"\n",
    "musician[\"Michael Jackson\"] = \"Pop\"\n",
    "print musician"
   ]
  },
  {
   "cell_type": "code",
   "execution_count": 9,
   "metadata": {
    "collapsed": false
   },
   "outputs": [
    {
     "name": "stdout",
     "output_type": "stream",
     "text": [
      "{'Kanye West': 'Hip-hop', 'The Beatles': ['Rock', 'Pop'], 'Skrillex': 'Electronic', 'Drake': 'R&B', 'Michael Jackson': 'Pop'}\n"
     ]
    }
   ],
   "source": [
    "# Keys are always unique. Values can be anything\n",
    "musician[\"Drake\"] = \"R&B\"\n",
    "musician[\"The Beatles\"] = [\"Rock\", \"Pop\"]\n",
    "print musician"
   ]
  },
  {
   "cell_type": "code",
   "execution_count": 10,
   "metadata": {
    "collapsed": false
   },
   "outputs": [
    {
     "name": "stdout",
     "output_type": "stream",
     "text": [
      "Electronic\n"
     ]
    }
   ],
   "source": [
    "# Access a value by providing a key\n",
    "print musician[\"Skrillex\"]"
   ]
  },
  {
   "cell_type": "code",
   "execution_count": 11,
   "metadata": {
    "collapsed": false
   },
   "outputs": [
    {
     "name": "stdout",
     "output_type": "stream",
     "text": [
      "Pop\n"
     ]
    }
   ],
   "source": [
    "# Access a list item inside of a dictionary\n",
    "print musician[\"The Beatles\"][1]"
   ]
  },
  {
   "cell_type": "code",
   "execution_count": 12,
   "metadata": {
    "collapsed": false
   },
   "outputs": [
    {
     "name": "stdout",
     "output_type": "stream",
     "text": [
      "Kanye West\n",
      "The Beatles\n",
      "Skrillex\n",
      "Drake\n",
      "Michael Jackson\n"
     ]
    }
   ],
   "source": [
    "# Iterating through a dictionary with a for loop will give you each key\n",
    "for key in musician:\n",
    "    print key"
   ]
  },
  {
   "cell_type": "code",
   "execution_count": 13,
   "metadata": {
    "collapsed": false
   },
   "outputs": [
    {
     "name": "stdout",
     "output_type": "stream",
     "text": [
      "Kanye West is a Hip-hop artist.\n",
      "The Beatles is a ['Rock', 'Pop'] artist.\n",
      "Skrillex is a Electronic artist.\n",
      "Drake is a R&B artist.\n",
      "Michael Jackson is a Pop artist.\n"
     ]
    }
   ],
   "source": [
    "# You can get the key and value together by using the iteritems function\n",
    "for k, v in musician.iteritems():\n",
    "    print k, \"is a\", v, \"artist.\""
   ]
  },
  {
   "cell_type": "code",
   "execution_count": 14,
   "metadata": {
    "collapsed": true
   },
   "outputs": [],
   "source": [
    "# You can learn more about these fundamental data structures here:\n",
    "# https://docs.python.org/2/tutorial/datastructures.html"
   ]
  }
 ],
 "metadata": {
  "kernelspec": {
   "display_name": "Python 2",
   "language": "python",
   "name": "python2"
  },
  "language_info": {
   "codemirror_mode": {
    "name": "ipython",
    "version": 2
   },
   "file_extension": ".py",
   "mimetype": "text/x-python",
   "name": "python",
   "nbconvert_exporter": "python",
   "pygments_lexer": "ipython2",
   "version": "2.7.10"
  }
 },
 "nbformat": 4,
 "nbformat_minor": 0
}
