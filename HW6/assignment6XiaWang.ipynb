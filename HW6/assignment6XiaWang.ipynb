{
 "cells": [
  {
   "cell_type": "code",
   "execution_count": 2,
   "metadata": {
    "collapsed": false
   },
   "outputs": [
    {
     "name": "stderr",
     "output_type": "stream",
     "text": [
      "/Users/eliseowang/anaconda/lib/python2.7/site-packages/matplotlib/__init__.py:855: UserWarning: svg.embed_char_paths is deprecated and replaced with svg.fonttype; please use the latter.\n",
      "  warnings.warn(self.msg_depr % (key, alt_key))\n"
     ]
    }
   ],
   "source": [
    "__author__='Xia Wang'\n",
    "import numpy as np\n",
    "import pandas as pd\n",
    "import matplotlib.pyplot as plt\n",
    "import os\n",
    "import json\n",
    "s = json.load(open(os.getenv('PUI2015')+'/plotstyle.json'))\n",
    "plt.rcParams.update(s)\n",
    "\n",
    "%matplotlib inline"
   ]
  },
  {
   "cell_type": "markdown",
   "metadata": {},
   "source": [
    "## Task 1"
   ]
  },
  {
   "cell_type": "code",
   "execution_count": null,
   "metadata": {
    "collapsed": false
   },
   "outputs": [],
   "source": [
    "data = np.load(os.getenv('PUI2015')+'/HW6/MTA_Fare.npy')"
   ]
  },
  {
   "cell_type": "code",
   "execution_count": null,
   "metadata": {
    "collapsed": false,
    "scrolled": true
   },
   "outputs": [],
   "source": [
    "print data.shape\n",
    "names=np.array(['10t', '14d', '1d', '2t', '30d', '7d', 'ada', 'afas', 'exp','ez',\n",
    "            'ff','mc','mr','month','rfm','rr','sen','spec','tcmc','t',\n",
    "            'umlim','xbus','stud'])   "
   ]
  },
  {
   "cell_type": "code",
   "execution_count": null,
   "metadata": {
    "collapsed": false
   },
   "outputs": [],
   "source": [
    "data = np.where(data != -1, data, np.nan)"
   ]
  },
  {
   "cell_type": "code",
   "execution_count": null,
   "metadata": {
    "collapsed": false
   },
   "outputs": [],
   "source": [
    "# add up all the stations\n",
    "by_ridetype_sum = np.nansum(data, axis=0)\n",
    "# add up all ride types\n",
    "by_station_sum = np.nansum(data, axis=1)"
   ]
  },
  {
   "cell_type": "code",
   "execution_count": null,
   "metadata": {
    "collapsed": true
   },
   "outputs": [],
   "source": [
    "station1 = pd.DataFrame(by_station_sum.T)\n",
    "station1.index = pd.date_range('5/21/2010',periods=194,freq='W-FRI')"
   ]
  },
  {
   "cell_type": "code",
   "execution_count": null,
   "metadata": {
    "collapsed": false
   },
   "outputs": [],
   "source": [
    "fig1 = plt.figure(figsize=(10,6))\n",
    "fig1.add_subplot(111)\n",
    "plt.plot(station1.index, np.log10(station1))\n",
    "plt.title('swipe No. by station (sum)',fontsize=20)\n",
    "plt.xticks(rotation=270)\n",
    "plt.xlabel('Week No.', fontsize=15)\n",
    "plt.ylabel('Swipe No., log10 scale', fontsize=15)\n",
    "plt.grid()\n",
    "plt.show"
   ]
  },
  {
   "cell_type": "code",
   "execution_count": null,
   "metadata": {
    "collapsed": true
   },
   "outputs": [],
   "source": [
    "ridetype1 = pd.DataFrame(by_ridetype_sum.T)\n",
    "ridetype1.columns = ['10t', '14d', '1d', '2t', '30d', '7d', 'ada', 'afas', 'exp','ez',\n",
    "                    'ff','mc','mr','month','rfm','rr','sen','spec','tcmc','t','umlim',\n",
    "                    'xbus','stud']\n",
    "ridetype1.index = pd.date_range('5/21/2010',periods=194,freq='W-FRI')"
   ]
  },
  {
   "cell_type": "code",
   "execution_count": null,
   "metadata": {
    "collapsed": false
   },
   "outputs": [],
   "source": [
    "fig1 = plt.figure(figsize=(10,6))\n",
    "fig1.add_subplot(111)\n",
    "plt.plot(ridetype1.index, np.log10(ridetype1))\n",
    "plt.title('swipe No. by ridetype (sum)',fontsize=20)\n",
    "plt.xticks(rotation=270)\n",
    "plt.xlabel('Week No.', fontsize=15)\n",
    "plt.ylabel('Swipe No. log10 scale', fontsize=15)\n",
    "plt.grid()\n",
    "plt.show"
   ]
  },
  {
   "cell_type": "code",
   "execution_count": null,
   "metadata": {
    "collapsed": false
   },
   "outputs": [],
   "source": [
    "by_ridetype_avg = np.nanmean(data, axis=0)\n",
    "by_station_avg = np.nanmean(data, axis=1)"
   ]
  },
  {
   "cell_type": "code",
   "execution_count": null,
   "metadata": {
    "collapsed": false
   },
   "outputs": [],
   "source": [
    "# print by_ridetype_avg.shape\n",
    "# print by_station_avg.shape"
   ]
  },
  {
   "cell_type": "code",
   "execution_count": null,
   "metadata": {
    "collapsed": false
   },
   "outputs": [],
   "source": [
    "ridetype = pd.DataFrame(by_ridetype_avg.T)"
   ]
  },
  {
   "cell_type": "code",
   "execution_count": null,
   "metadata": {
    "collapsed": true
   },
   "outputs": [],
   "source": [
    "ridetype.columns = ['10t', '14d', '1d', '2t', '30d', '7d', 'ada', 'afas', 'exp','ez',\n",
    "                    'ff','mc','mr','month','rfm','rr','sen','spec','tcmc','t','umlim',\n",
    "                    'xbus','stud']"
   ]
  },
  {
   "cell_type": "code",
   "execution_count": null,
   "metadata": {
    "collapsed": false
   },
   "outputs": [],
   "source": [
    "ridetype.index = pd.date_range('5/21/2010',periods=194,freq='W-FRI')"
   ]
  },
  {
   "cell_type": "code",
   "execution_count": null,
   "metadata": {
    "collapsed": false
   },
   "outputs": [],
   "source": [
    "station = pd.DataFrame(by_station_avg.T)"
   ]
  },
  {
   "cell_type": "code",
   "execution_count": null,
   "metadata": {
    "collapsed": false
   },
   "outputs": [],
   "source": [
    "station.index = pd.date_range('5/21/2010',periods=194,freq='W-FRI')"
   ]
  },
  {
   "cell_type": "code",
   "execution_count": null,
   "metadata": {
    "collapsed": false
   },
   "outputs": [],
   "source": [
    "fig1 = plt.figure(figsize=(10,6))\n",
    "fig1.add_subplot(111)\n",
    "plt.plot(station.index, np.log10(station))\n",
    "plt.title('swipe No. by station (average)', fontsize=20)\n",
    "plt.xticks(rotation=270)\n",
    "plt.xlabel('Week No.', fontsize=15)\n",
    "plt.ylabel('Swipe No. log10 scale', fontsize=15)\n",
    "plt.grid()\n",
    "plt.show"
   ]
  },
  {
   "cell_type": "code",
   "execution_count": null,
   "metadata": {
    "collapsed": false
   },
   "outputs": [],
   "source": [
    "fig1 = plt.figure(figsize=(10,6))\n",
    "fig1.add_subplot(111)\n",
    "plt.plot(ridetype.index, np.log10(ridetype))\n",
    "plt.title('swipe No. by ridetype (average)', fontsize=20)\n",
    "plt.xticks(rotation=90)\n",
    "plt.xlabel('Week No.', fontsize=15)\n",
    "plt.ylabel('Swipe No. log10 scale', fontsize=15)\n",
    "plt.grid()\n",
    "plt.show"
   ]
  },
  {
   "cell_type": "markdown",
   "metadata": {},
   "source": [
    "## By simply looking at the plots (both by station and by ridetype), we can detect a huge drop in the winter of 2012. I'll detect the event as an outlier using 3 standard deviations from mean as the critical value. And I'll only apply it to the swipe numbers by ridetype (average). The same code can be applied to other datasets."
   ]
  },
  {
   "cell_type": "code",
   "execution_count": null,
   "metadata": {
    "collapsed": false
   },
   "outputs": [],
   "source": [
    "ridetype_num = pd.DataFrame(by_ridetype_avg.T).convert_objects(convert_numeric=True)"
   ]
  },
  {
   "cell_type": "code",
   "execution_count": null,
   "metadata": {
    "collapsed": false
   },
   "outputs": [],
   "source": [
    "ridetype_num.loc['sigma'] = ridetype_num.std()\n",
    "ridetype_num.loc['mean'] = ridetype_num.mean()\n",
    "ridetype_num.loc['critical min'] = ridetype_num.loc['mean'] - 3.0*ridetype_num.loc['sigma']\n",
    "ridetype_num.loc['critical max'] = ridetype_num.loc['mean'] + 3.0*ridetype_num.loc['sigma']"
   ]
  },
  {
   "cell_type": "code",
   "execution_count": null,
   "metadata": {
    "collapsed": false
   },
   "outputs": [],
   "source": [
    "# calculate if any value in the dataframe is an outliers\n",
    "eventsmin = np.where(ridetype_num < ridetype_num.loc['critical min'])\n",
    "eventsmax = np.where(ridetype_num > ridetype_num.loc['critical max'])[0]"
   ]
  },
  {
   "cell_type": "code",
   "execution_count": null,
   "metadata": {
    "collapsed": false
   },
   "outputs": [],
   "source": [
    "print eventsmin"
   ]
  },
  {
   "cell_type": "code",
   "execution_count": null,
   "metadata": {
    "collapsed": false
   },
   "outputs": [],
   "source": [
    "events = np.array(eventsmin[0])\n",
    "np.unique(events)"
   ]
  },
  {
   "cell_type": "markdown",
   "metadata": {},
   "source": [
    "## According to the calculation, week 126, 173 189 and 194 have outliers. As we have seen previously in the plots, in week 126 the plot shows a sharp drop. Week 173, 189 are not very obvious on the plots though. As for week 126, the sharp drop was probably caused by Hurricane Sandy when the infrustructure was damaged and the use of metro dropped significantly."
   ]
  },
  {
   "cell_type": "markdown",
   "metadata": {},
   "source": [
    "## Task 2"
   ]
  },
  {
   "cell_type": "code",
   "execution_count": null,
   "metadata": {
    "collapsed": true
   },
   "outputs": [],
   "source": [
    "from scipy import stats\n",
    "import statsmodels.api as sm"
   ]
  },
  {
   "cell_type": "code",
   "execution_count": null,
   "metadata": {
    "collapsed": false
   },
   "outputs": [],
   "source": []
  },
  {
   "cell_type": "code",
   "execution_count": null,
   "metadata": {
    "collapsed": false
   },
   "outputs": [],
   "source": [
    "# I've tried different window numbers from 1 to 20 and I think 10 is a good fit.\n",
    "pd.rolling_mean(ridetype, 10).plot(figsize=(10,6), \n",
    "                                   title='Rolling mean of ridetype', fontsize=20)\n",
    "plt.legend(loc=8)\n",
    "for x in ridetype.ix['2010-08-06']:\n",
    "    plt.axhline(x, color='k',linestyle='--')"
   ]
  },
  {
   "cell_type": "markdown",
   "metadata": {},
   "source": [
    "## 10t shows a growing trend, unlim is almost stable, 7d shows an even more obvious growing trend, and ada type dropped a little. The others are more difficult to detect by eyes. The whole result is shown below"
   ]
  },
  {
   "cell_type": "code",
   "execution_count": null,
   "metadata": {
    "collapsed": false
   },
   "outputs": [],
   "source": [
    "ls1 = pd.rolling_mean(ridetype, 10).dropna().head(10)\n",
    "ls2 = pd.rolling_mean(ridetype, 10).dropna().tail(10)"
   ]
  },
  {
   "cell_type": "code",
   "execution_count": null,
   "metadata": {
    "collapsed": false
   },
   "outputs": [],
   "source": [
    "# I calculated the rolling mean for the first and last 10 weeks,\n",
    "# the one by the other, and took the average\n",
    "ls1.index = np.arange(10)\n",
    "ls2.index = np.arange(10)\n",
    "ratio = ls1/ls2\n",
    "ratio.mean()"
   ]
  },
  {
   "cell_type": "markdown",
   "metadata": {},
   "source": [
    "## The rolling std is shown below"
   ]
  },
  {
   "cell_type": "code",
   "execution_count": null,
   "metadata": {
    "collapsed": false
   },
   "outputs": [],
   "source": [
    "pd.rolling_std(ridetype, 12).plot(figsize=(10,6))\n",
    "plt.legend(loc=9)"
   ]
  },
  {
   "cell_type": "markdown",
   "metadata": {},
   "source": [
    "## Task 3"
   ]
  },
  {
   "cell_type": "code",
   "execution_count": null,
   "metadata": {
    "collapsed": false
   },
   "outputs": [],
   "source": [
    "f = np.abs(np.fft.rfft(by_station_sum))\n",
    "f.shape"
   ]
  },
  {
   "cell_type": "code",
   "execution_count": null,
   "metadata": {
    "collapsed": false
   },
   "outputs": [],
   "source": [
    "N =194\n",
    "ffreq = np.fft.rfftfreq(N, 1.0)\n",
    "ffreq.shape"
   ]
  },
  {
   "cell_type": "code",
   "execution_count": null,
   "metadata": {
    "collapsed": false
   },
   "outputs": [],
   "source": [
    "station1 = station1.T.astype(float)"
   ]
  },
  {
   "cell_type": "code",
   "execution_count": null,
   "metadata": {
    "collapsed": false
   },
   "outputs": [],
   "source": [
    "fig = plt.figure(figsize=(10,300))\n",
    "for i in range(600):\n",
    "    ax = fig.add_subplot(300,2,i)\n",
    "    f = np.abs(np.fft.rfft(station1.loc[i]))\n",
    "    ax.plot(np.fft.rfftfreq(N, 1.0)[1:], (f[1:]), 'o', ms=5)\n",
    "    ax.set_title('%i' %(i-1))\n",
    "    ax.plot(np.fft.rfftfreq(N, 1.0)[1:], (f[1:]), '-')\n",
    "    plt.axvline(1.0/52)"
   ]
  },
  {
   "cell_type": "code",
   "execution_count": null,
   "metadata": {
    "collapsed": true
   },
   "outputs": [],
   "source": [
    "fig = plt.figure(figsize=(10,300))\n",
    "f = np.abs(np.fft.rfft(station1.loc[i]))\n",
    "ax.plot(np.fft.rfftfreq(N, 1.0)[1:], (f[1:]), 'o', ms=5)\n",
    "ax.plot(np.fft.rfftfreq(N, 1.0)[1:], (f[1:]), '-')\n",
    "plt.axvline(1.0/52)"
   ]
  },
  {
   "cell_type": "code",
   "execution_count": null,
   "metadata": {
    "collapsed": false
   },
   "outputs": [],
   "source": [
    "# fig=plt.figure(figsize=(15,5))\n",
    "# # print (1.0/np.fft.rfftfreq(N, 1.0)[0:2])\n",
    "# # print (1.0/np.fft.rfftfreq(N, 1.0)[-3:-1])\n",
    "# X = np.fft.rfftfreq(N, 1.0)\n",
    "# plt.plot(X, f.T, 'o', ms=20)\n",
    "# plt.plot(X, f.T, '-', ms=20)\n",
    "# #plt.set_xticklabels([ \"%s\"%(1/f) for f in ax.get_xticks()], fontsize=20)\n",
    "# plt.xlabel(\"period (week)\", fontsize=20)\n",
    "# plt.ylabel(\"Power\", fontsize=20)\n",
    "# plt.title(\"Trash pickup power spectrum\", fontsize=20)"
   ]
  },
  {
   "cell_type": "code",
   "execution_count": null,
   "metadata": {
    "collapsed": true
   },
   "outputs": [],
   "source": []
  }
 ],
 "metadata": {
  "kernelspec": {
   "display_name": "Python 2",
   "language": "python",
   "name": "python2"
  },
  "language_info": {
   "codemirror_mode": {
    "name": "ipython",
    "version": 2
   },
   "file_extension": ".py",
   "mimetype": "text/x-python",
   "name": "python",
   "nbconvert_exporter": "python",
   "pygments_lexer": "ipython2",
   "version": "2.7.10"
  }
 },
 "nbformat": 4,
 "nbformat_minor": 0
}
