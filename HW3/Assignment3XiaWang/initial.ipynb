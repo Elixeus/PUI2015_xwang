{
 "cells": [
  {
   "cell_type": "code",
   "execution_count": 2,
   "metadata": {
    "collapsed": false
   },
   "outputs": [
    {
     "name": "stdout",
     "output_type": "stream",
     "text": [
      "Populating the interactive namespace from numpy and matplotlib\n"
     ]
    }
   ],
   "source": [
    "import pylab as pl\n",
    "import pandas as pd\n",
    "import numpy as np\n",
    "import csv\n",
    "import json\n",
    "import sys\n",
    "import scipy.stats\n",
    "import urllib2\n",
    "\n",
    "%pylab inline"
   ]
  },
  {
   "cell_type": "markdown",
   "metadata": {},
   "source": [
    "##Idea: \n",
    "Citibike riders in Brooklyn are younger than riders in Manhattan\n",
    "\n",
    "## Let's start with a KS test to look at distributions\n",
    "### Hypotheses:\n",
    "#####Null hypothesis: \n",
    "The distribution of ages of subscribers who start rides in Brooklyn stations is the same as subscribers who start rides in Manhattan stations\n",
    "#####Alternative hypothesis: \n",
    "The distribution of ages of subscribers who start rides in Brooklyn stations is different than subscribers who start rides in Manhattan stations\n",
    "\n",
    "alpha = 0.05\n"
   ]
  },
  {
   "cell_type": "code",
   "execution_count": 3,
   "metadata": {
    "collapsed": false
   },
   "outputs": [],
   "source": [
    "# Creating csv of station data from Citi Bike\n",
    "\n",
    "url_stations = 'http://www.citibikenyc.com/stations/json'\n",
    "limbo = urllib2.urlopen(url_stations)\n",
    "data = json.load(limbo)\n",
    "stations = data['stationBeanList']\n",
    "\n",
    "with open('stations.csv','wb') as csvFile:\n",
    "    writer = csv.writer(csvFile)\n",
    "    writer.writerow(['sid','lat','long'])\n",
    "    for s in stations:\n",
    "        sid = s['id']\n",
    "        stationLat = s['latitude']\n",
    "        stationLong = s['longitude']\n",
    "        row = [sid,stationLat,stationLong]\n",
    "        writer.writerow(row)"
   ]
  },
  {
   "cell_type": "markdown",
   "metadata": {},
   "source": [
    "## We need to wrangle the data first. The CSV of station coordinates was used to join each station id (sid) with the borough it falls within and re-saved as stations.csv with the joined 'boro' field"
   ]
  },
  {
   "cell_type": "code",
   "execution_count": 4,
   "metadata": {
    "collapsed": false
   },
   "outputs": [
    {
     "data": {
      "text/html": [
       "<div>\n",
       "<table border=\"1\" class=\"dataframe\">\n",
       "  <thead>\n",
       "    <tr style=\"text-align: right;\">\n",
       "      <th></th>\n",
       "      <th>tripduration</th>\n",
       "      <th>starttime</th>\n",
       "      <th>stoptime</th>\n",
       "      <th>start station id</th>\n",
       "      <th>start station name</th>\n",
       "      <th>start station latitude</th>\n",
       "      <th>start station longitude</th>\n",
       "      <th>end station id</th>\n",
       "      <th>end station name</th>\n",
       "      <th>end station latitude</th>\n",
       "      <th>end station longitude</th>\n",
       "      <th>bikeid</th>\n",
       "      <th>usertype</th>\n",
       "      <th>birth year</th>\n",
       "      <th>gender</th>\n",
       "    </tr>\n",
       "  </thead>\n",
       "  <tbody>\n",
       "    <tr>\n",
       "      <th>0</th>\n",
       "      <td>1027</td>\n",
       "      <td>10/1/2014 00:00:27</td>\n",
       "      <td>10/1/2014 00:17:34</td>\n",
       "      <td>479</td>\n",
       "      <td>9 Ave &amp; W 45 St</td>\n",
       "      <td>40.760193</td>\n",
       "      <td>-73.991255</td>\n",
       "      <td>540</td>\n",
       "      <td>Lexington Ave &amp; E 26 St</td>\n",
       "      <td>40.741473</td>\n",
       "      <td>-73.983209</td>\n",
       "      <td>21376</td>\n",
       "      <td>Subscriber</td>\n",
       "      <td>1977</td>\n",
       "      <td>1</td>\n",
       "    </tr>\n",
       "    <tr>\n",
       "      <th>1</th>\n",
       "      <td>534</td>\n",
       "      <td>10/1/2014 00:00:36</td>\n",
       "      <td>10/1/2014 00:09:30</td>\n",
       "      <td>417</td>\n",
       "      <td>Barclay St &amp; Church St</td>\n",
       "      <td>40.712912</td>\n",
       "      <td>-74.010202</td>\n",
       "      <td>417</td>\n",
       "      <td>Barclay St &amp; Church St</td>\n",
       "      <td>40.712912</td>\n",
       "      <td>-74.010202</td>\n",
       "      <td>16086</td>\n",
       "      <td>Subscriber</td>\n",
       "      <td>1974</td>\n",
       "      <td>2</td>\n",
       "    </tr>\n",
       "    <tr>\n",
       "      <th>2</th>\n",
       "      <td>416</td>\n",
       "      <td>10/1/2014 00:00:42</td>\n",
       "      <td>10/1/2014 00:07:38</td>\n",
       "      <td>327</td>\n",
       "      <td>Vesey Pl &amp; River Terrace</td>\n",
       "      <td>40.715338</td>\n",
       "      <td>-74.016584</td>\n",
       "      <td>415</td>\n",
       "      <td>Pearl St &amp; Hanover Square</td>\n",
       "      <td>40.704718</td>\n",
       "      <td>-74.009260</td>\n",
       "      <td>16073</td>\n",
       "      <td>Subscriber</td>\n",
       "      <td>1990</td>\n",
       "      <td>1</td>\n",
       "    </tr>\n",
       "  </tbody>\n",
       "</table>\n",
       "</div>"
      ],
      "text/plain": [
       "   tripduration           starttime            stoptime  start station id  \\\n",
       "0          1027  10/1/2014 00:00:27  10/1/2014 00:17:34               479   \n",
       "1           534  10/1/2014 00:00:36  10/1/2014 00:09:30               417   \n",
       "2           416  10/1/2014 00:00:42  10/1/2014 00:07:38               327   \n",
       "\n",
       "         start station name  start station latitude  start station longitude  \\\n",
       "0           9 Ave & W 45 St               40.760193               -73.991255   \n",
       "1    Barclay St & Church St               40.712912               -74.010202   \n",
       "2  Vesey Pl & River Terrace               40.715338               -74.016584   \n",
       "\n",
       "   end station id           end station name  end station latitude  \\\n",
       "0             540    Lexington Ave & E 26 St             40.741473   \n",
       "1             417     Barclay St & Church St             40.712912   \n",
       "2             415  Pearl St & Hanover Square             40.704718   \n",
       "\n",
       "   end station longitude  bikeid    usertype  birth year  gender  \n",
       "0             -73.983209   21376  Subscriber        1977       1  \n",
       "1             -74.010202   16086  Subscriber        1974       2  \n",
       "2             -74.009260   16073  Subscriber        1990       1  "
      ]
     },
     "execution_count": 4,
     "metadata": {},
     "output_type": "execute_result"
    }
   ],
   "source": [
    "# Reading in the Citi Bike trip data from Oct 2014\n",
    "trips = pd.read_csv('data/201410-citibike-tripdata.csv')\n",
    "trips.head(3)"
   ]
  },
  {
   "cell_type": "code",
   "execution_count": 5,
   "metadata": {
    "collapsed": false
   },
   "outputs": [
    {
     "data": {
      "text/html": [
       "<div>\n",
       "<table border=\"1\" class=\"dataframe\">\n",
       "  <thead>\n",
       "    <tr style=\"text-align: right;\">\n",
       "      <th></th>\n",
       "      <th>X</th>\n",
       "      <th>Y</th>\n",
       "      <th>sid</th>\n",
       "      <th>lat</th>\n",
       "      <th>lon</th>\n",
       "      <th>boro</th>\n",
       "    </tr>\n",
       "  </thead>\n",
       "  <tbody>\n",
       "    <tr>\n",
       "      <th>0</th>\n",
       "      <td>-73.976323</td>\n",
       "      <td>40.683826</td>\n",
       "      <td>83</td>\n",
       "      <td>40.683826</td>\n",
       "      <td>-73.976323</td>\n",
       "      <td>BK</td>\n",
       "    </tr>\n",
       "    <tr>\n",
       "      <th>1</th>\n",
       "      <td>-73.978034</td>\n",
       "      <td>40.696089</td>\n",
       "      <td>119</td>\n",
       "      <td>40.696089</td>\n",
       "      <td>-73.978034</td>\n",
       "      <td>BK</td>\n",
       "    </tr>\n",
       "    <tr>\n",
       "      <th>2</th>\n",
       "      <td>-73.959282</td>\n",
       "      <td>40.686768</td>\n",
       "      <td>120</td>\n",
       "      <td>40.686768</td>\n",
       "      <td>-73.959282</td>\n",
       "      <td>BK</td>\n",
       "    </tr>\n",
       "    <tr>\n",
       "      <th>3</th>\n",
       "      <td>-73.993379</td>\n",
       "      <td>40.692395</td>\n",
       "      <td>143</td>\n",
       "      <td>40.692395</td>\n",
       "      <td>-73.993379</td>\n",
       "      <td>BK</td>\n",
       "    </tr>\n",
       "    <tr>\n",
       "      <th>4</th>\n",
       "      <td>-73.980689</td>\n",
       "      <td>40.698399</td>\n",
       "      <td>144</td>\n",
       "      <td>40.698399</td>\n",
       "      <td>-73.980689</td>\n",
       "      <td>BK</td>\n",
       "    </tr>\n",
       "  </tbody>\n",
       "</table>\n",
       "</div>"
      ],
      "text/plain": [
       "           X          Y  sid        lat        lon boro\n",
       "0 -73.976323  40.683826   83  40.683826 -73.976323   BK\n",
       "1 -73.978034  40.696089  119  40.696089 -73.978034   BK\n",
       "2 -73.959282  40.686768  120  40.686768 -73.959282   BK\n",
       "3 -73.993379  40.692395  143  40.692395 -73.993379   BK\n",
       "4 -73.980689  40.698399  144  40.698399 -73.980689   BK"
      ]
     },
     "execution_count": 5,
     "metadata": {},
     "output_type": "execute_result"
    }
   ],
   "source": [
    "# Reading in the csv of stations that have been joined with their borough (MH and BK only)\n",
    "stations = pd.read_csv('data/stations.csv')\n",
    "stations.head(5)"
   ]
  },
  {
   "cell_type": "code",
   "execution_count": 6,
   "metadata": {
    "collapsed": false
   },
   "outputs": [
    {
     "data": {
      "text/html": [
       "<div>\n",
       "<table border=\"1\" class=\"dataframe\">\n",
       "  <thead>\n",
       "    <tr style=\"text-align: right;\">\n",
       "      <th></th>\n",
       "      <th>sid</th>\n",
       "      <th>tripduration</th>\n",
       "      <th>start station id</th>\n",
       "      <th>start station latitude</th>\n",
       "      <th>start station longitude</th>\n",
       "      <th>end station id</th>\n",
       "      <th>end station latitude</th>\n",
       "      <th>end station longitude</th>\n",
       "      <th>bikeid</th>\n",
       "      <th>birth year</th>\n",
       "      <th>gender</th>\n",
       "      <th>age</th>\n",
       "    </tr>\n",
       "  </thead>\n",
       "  <tbody>\n",
       "    <tr>\n",
       "      <th>0</th>\n",
       "      <td>72</td>\n",
       "      <td>807</td>\n",
       "      <td>72</td>\n",
       "      <td>40.767272</td>\n",
       "      <td>-73.993929</td>\n",
       "      <td>450</td>\n",
       "      <td>40.752554</td>\n",
       "      <td>-73.992390</td>\n",
       "      <td>18003.0</td>\n",
       "      <td>1977</td>\n",
       "      <td>1</td>\n",
       "      <td>38</td>\n",
       "    </tr>\n",
       "    <tr>\n",
       "      <th>1</th>\n",
       "      <td>79</td>\n",
       "      <td>561</td>\n",
       "      <td>79</td>\n",
       "      <td>40.719116</td>\n",
       "      <td>-74.006667</td>\n",
       "      <td>347</td>\n",
       "      <td>40.722174</td>\n",
       "      <td>-74.002472</td>\n",
       "      <td>18099.0</td>\n",
       "      <td>1975</td>\n",
       "      <td>1</td>\n",
       "      <td>40</td>\n",
       "    </tr>\n",
       "    <tr>\n",
       "      <th>2</th>\n",
       "      <td>82</td>\n",
       "      <td>509</td>\n",
       "      <td>82</td>\n",
       "      <td>40.711174</td>\n",
       "      <td>-74.000165</td>\n",
       "      <td>329</td>\n",
       "      <td>40.714215</td>\n",
       "      <td>-73.997047</td>\n",
       "      <td>18128.0</td>\n",
       "      <td>1979</td>\n",
       "      <td>1</td>\n",
       "      <td>36</td>\n",
       "    </tr>\n",
       "    <tr>\n",
       "      <th>3</th>\n",
       "      <td>83</td>\n",
       "      <td>551</td>\n",
       "      <td>83</td>\n",
       "      <td>40.683826</td>\n",
       "      <td>-73.976323</td>\n",
       "      <td>365</td>\n",
       "      <td>40.691960</td>\n",
       "      <td>-73.972652</td>\n",
       "      <td>18019.0</td>\n",
       "      <td>1980</td>\n",
       "      <td>1</td>\n",
       "      <td>35</td>\n",
       "    </tr>\n",
       "    <tr>\n",
       "      <th>4</th>\n",
       "      <td>116</td>\n",
       "      <td>511</td>\n",
       "      <td>116</td>\n",
       "      <td>40.741776</td>\n",
       "      <td>-74.001497</td>\n",
       "      <td>458</td>\n",
       "      <td>40.743954</td>\n",
       "      <td>-73.994618</td>\n",
       "      <td>18167.5</td>\n",
       "      <td>1978</td>\n",
       "      <td>1</td>\n",
       "      <td>37</td>\n",
       "    </tr>\n",
       "  </tbody>\n",
       "</table>\n",
       "</div>"
      ],
      "text/plain": [
       "   sid  tripduration  start station id  start station latitude  \\\n",
       "0   72           807                72               40.767272   \n",
       "1   79           561                79               40.719116   \n",
       "2   82           509                82               40.711174   \n",
       "3   83           551                83               40.683826   \n",
       "4  116           511               116               40.741776   \n",
       "\n",
       "   start station longitude  end station id  end station latitude  \\\n",
       "0               -73.993929             450             40.752554   \n",
       "1               -74.006667             347             40.722174   \n",
       "2               -74.000165             329             40.714215   \n",
       "3               -73.976323             365             40.691960   \n",
       "4               -74.001497             458             40.743954   \n",
       "\n",
       "   end station longitude   bikeid  birth year  gender  age  \n",
       "0             -73.992390  18003.0        1977       1   38  \n",
       "1             -74.002472  18099.0        1975       1   40  \n",
       "2             -73.997047  18128.0        1979       1   36  \n",
       "3             -73.972652  18019.0        1980       1   35  \n",
       "4             -73.994618  18167.5        1978       1   37  "
      ]
     },
     "execution_count": 6,
     "metadata": {},
     "output_type": "execute_result"
    }
   ],
   "source": [
    "# Subsetting the trips data to only look at Subscribers and people with reasonable birth years\n",
    "trips = trips[(trips['usertype']=='Subscriber')&(trips['birth year']>1925)]\n",
    "trips['sid'] = trips['start station id']\n",
    "trips['age'] = 2015-trips['birth year']\n",
    "\n",
    "# Calculating the median age of riders from trips beginning at each sid\n",
    "stations_med_age = trips.groupby('sid', as_index=False).agg(median)\n",
    "\n",
    "type(stations_med_age)\n",
    "stations_med_age.head(5)"
   ]
  },
  {
   "cell_type": "code",
   "execution_count": 7,
   "metadata": {
    "collapsed": false
   },
   "outputs": [
    {
     "data": {
      "text/html": [
       "<div>\n",
       "<table border=\"1\" class=\"dataframe\">\n",
       "  <thead>\n",
       "    <tr style=\"text-align: right;\">\n",
       "      <th></th>\n",
       "      <th>sid</th>\n",
       "      <th>tripduration</th>\n",
       "      <th>start station id</th>\n",
       "      <th>start station latitude</th>\n",
       "      <th>start station longitude</th>\n",
       "      <th>end station id</th>\n",
       "      <th>end station latitude</th>\n",
       "      <th>end station longitude</th>\n",
       "      <th>bikeid</th>\n",
       "      <th>birth year</th>\n",
       "      <th>gender</th>\n",
       "      <th>age</th>\n",
       "      <th>X</th>\n",
       "      <th>Y</th>\n",
       "      <th>lat</th>\n",
       "      <th>lon</th>\n",
       "      <th>boro</th>\n",
       "    </tr>\n",
       "  </thead>\n",
       "  <tbody>\n",
       "    <tr>\n",
       "      <th>0</th>\n",
       "      <td>72</td>\n",
       "      <td>807</td>\n",
       "      <td>72</td>\n",
       "      <td>40.767272</td>\n",
       "      <td>-73.993929</td>\n",
       "      <td>450</td>\n",
       "      <td>40.752554</td>\n",
       "      <td>-73.992390</td>\n",
       "      <td>18003.0</td>\n",
       "      <td>1977</td>\n",
       "      <td>1</td>\n",
       "      <td>38</td>\n",
       "      <td>-73.993929</td>\n",
       "      <td>40.767272</td>\n",
       "      <td>40.767272</td>\n",
       "      <td>-73.993929</td>\n",
       "      <td>MH</td>\n",
       "    </tr>\n",
       "    <tr>\n",
       "      <th>1</th>\n",
       "      <td>79</td>\n",
       "      <td>561</td>\n",
       "      <td>79</td>\n",
       "      <td>40.719116</td>\n",
       "      <td>-74.006667</td>\n",
       "      <td>347</td>\n",
       "      <td>40.722174</td>\n",
       "      <td>-74.002472</td>\n",
       "      <td>18099.0</td>\n",
       "      <td>1975</td>\n",
       "      <td>1</td>\n",
       "      <td>40</td>\n",
       "      <td>-74.006667</td>\n",
       "      <td>40.719116</td>\n",
       "      <td>40.719116</td>\n",
       "      <td>-74.006667</td>\n",
       "      <td>MH</td>\n",
       "    </tr>\n",
       "    <tr>\n",
       "      <th>2</th>\n",
       "      <td>82</td>\n",
       "      <td>509</td>\n",
       "      <td>82</td>\n",
       "      <td>40.711174</td>\n",
       "      <td>-74.000165</td>\n",
       "      <td>329</td>\n",
       "      <td>40.714215</td>\n",
       "      <td>-73.997047</td>\n",
       "      <td>18128.0</td>\n",
       "      <td>1979</td>\n",
       "      <td>1</td>\n",
       "      <td>36</td>\n",
       "      <td>-74.000165</td>\n",
       "      <td>40.711174</td>\n",
       "      <td>40.711174</td>\n",
       "      <td>-74.000165</td>\n",
       "      <td>MH</td>\n",
       "    </tr>\n",
       "    <tr>\n",
       "      <th>3</th>\n",
       "      <td>83</td>\n",
       "      <td>551</td>\n",
       "      <td>83</td>\n",
       "      <td>40.683826</td>\n",
       "      <td>-73.976323</td>\n",
       "      <td>365</td>\n",
       "      <td>40.691960</td>\n",
       "      <td>-73.972652</td>\n",
       "      <td>18019.0</td>\n",
       "      <td>1980</td>\n",
       "      <td>1</td>\n",
       "      <td>35</td>\n",
       "      <td>-73.976323</td>\n",
       "      <td>40.683826</td>\n",
       "      <td>40.683826</td>\n",
       "      <td>-73.976323</td>\n",
       "      <td>BK</td>\n",
       "    </tr>\n",
       "    <tr>\n",
       "      <th>4</th>\n",
       "      <td>116</td>\n",
       "      <td>511</td>\n",
       "      <td>116</td>\n",
       "      <td>40.741776</td>\n",
       "      <td>-74.001497</td>\n",
       "      <td>458</td>\n",
       "      <td>40.743954</td>\n",
       "      <td>-73.994618</td>\n",
       "      <td>18167.5</td>\n",
       "      <td>1978</td>\n",
       "      <td>1</td>\n",
       "      <td>37</td>\n",
       "      <td>-74.001497</td>\n",
       "      <td>40.741776</td>\n",
       "      <td>40.741776</td>\n",
       "      <td>-74.001497</td>\n",
       "      <td>MH</td>\n",
       "    </tr>\n",
       "  </tbody>\n",
       "</table>\n",
       "</div>"
      ],
      "text/plain": [
       "   sid  tripduration  start station id  start station latitude  \\\n",
       "0   72           807                72               40.767272   \n",
       "1   79           561                79               40.719116   \n",
       "2   82           509                82               40.711174   \n",
       "3   83           551                83               40.683826   \n",
       "4  116           511               116               40.741776   \n",
       "\n",
       "   start station longitude  end station id  end station latitude  \\\n",
       "0               -73.993929             450             40.752554   \n",
       "1               -74.006667             347             40.722174   \n",
       "2               -74.000165             329             40.714215   \n",
       "3               -73.976323             365             40.691960   \n",
       "4               -74.001497             458             40.743954   \n",
       "\n",
       "   end station longitude   bikeid  birth year  gender  age          X  \\\n",
       "0             -73.992390  18003.0        1977       1   38 -73.993929   \n",
       "1             -74.002472  18099.0        1975       1   40 -74.006667   \n",
       "2             -73.997047  18128.0        1979       1   36 -74.000165   \n",
       "3             -73.972652  18019.0        1980       1   35 -73.976323   \n",
       "4             -73.994618  18167.5        1978       1   37 -74.001497   \n",
       "\n",
       "           Y        lat        lon boro  \n",
       "0  40.767272  40.767272 -73.993929   MH  \n",
       "1  40.719116  40.719116 -74.006667   MH  \n",
       "2  40.711174  40.711174 -74.000165   MH  \n",
       "3  40.683826  40.683826 -73.976323   BK  \n",
       "4  40.741776  40.741776 -74.001497   MH  "
      ]
     },
     "execution_count": 7,
     "metadata": {},
     "output_type": "execute_result"
    }
   ],
   "source": [
    "# Merging together the station data - want to add the MH/BK designation)\n",
    "stations_med_age = pd.merge(stations_med_age, stations, on=['sid'])\n",
    "stations_med_age.head(5)"
   ]
  },
  {
   "cell_type": "code",
   "execution_count": 8,
   "metadata": {
    "collapsed": false
   },
   "outputs": [
    {
     "data": {
      "text/plain": [
       "<matplotlib.axes._subplots.AxesSubplot at 0x117cb2910>"
      ]
     },
     "execution_count": 8,
     "metadata": {},
     "output_type": "execute_result"
    },
    {
     "data": {
      "image/png": "[encoded data removed]",
      "text/plain": [
       "<matplotlib.figure.Figure at 0x104762a10>"
      ]
     },
     "metadata": {},
     "output_type": "display_data"
    }
   ],
   "source": [
    "# Subsetting Brooklyn station data and creating histogram of the median ages\n",
    "BK = stations_med_age[stations_med_age['boro']=='BK']\n",
    "bins = np.arange(16, 69, 2)\n",
    "BK.age.groupby(pd.cut(BK.age, bins)).agg([count_nonzero]).plot(kind='bar')"
   ]
  },
  {
   "cell_type": "code",
   "execution_count": 9,
   "metadata": {
    "collapsed": false
   },
   "outputs": [
    {
     "data": {
      "text/plain": [
       "<matplotlib.axes._subplots.AxesSubplot at 0x10b7cc1d0>"
      ]
     },
     "execution_count": 9,
     "metadata": {},
     "output_type": "execute_result"
    },
    {
     "data": {
      "image/png": "[encoded data removed]",
      "text/plain": [
       "<matplotlib.figure.Figure at 0x117c8ee50>"
      ]
     },
     "metadata": {},
     "output_type": "display_data"
    }
   ],
   "source": [
    "# Subsetting Manhattan station data and creating histogram of the median ages\n",
    "MH = stations_med_age[stations_med_age['boro']=='MH']\n",
    "MH.age.groupby(pd.cut(MH.age, bins)).agg([count_nonzero]).plot(kind='bar')"
   ]
  },
  {
   "cell_type": "code",
   "execution_count": 10,
   "metadata": {
    "collapsed": false
   },
   "outputs": [
    {
     "name": "stdout",
     "output_type": "stream",
     "text": [
      "          count_nonzero\n",
      "age                    \n",
      "(16, 18]            NaN\n",
      "(18, 20]            NaN\n",
      "(20, 22]            NaN\n",
      "(22, 24]            NaN\n",
      "(24, 26]            NaN\n",
      "(26, 28]            NaN\n",
      "(28, 30]       0.000939\n",
      "(30, 32]       0.004433\n",
      "(32, 34]       0.031763\n",
      "(34, 36]       0.226464\n",
      "(36, 38]       0.091013\n",
      "(38, 40]       0.005633\n",
      "(40, 42]       0.007093\n",
      "(42, 44]       0.000000\n",
      "(44, 46]            NaN\n",
      "(46, 48]            NaN\n",
      "(48, 50]            NaN\n",
      "(50, 52]            NaN\n",
      "(52, 54]            NaN\n",
      "(54, 56]            NaN\n",
      "(56, 58]            NaN\n",
      "(58, 60]            NaN\n",
      "(60, 62]            NaN\n",
      "(62, 64]            NaN\n",
      "(64, 66]            NaN\n",
      "(66, 68]            NaN\n"
     ]
    }
   ],
   "source": [
    "# Creating cummulative distributions for BK and MH\n",
    "cMH = MH.age.groupby(pd.cut(MH.age, bins)).agg([count_nonzero]).cumsum()\n",
    "cBK = BK.age.groupby(pd.cut(BK.age, bins)).agg([count_nonzero]).cumsum()\n",
    "\n",
    "print np.abs(cBK / cBK.max()-cMH / cMH.max())"
   ]
  },
  {
   "cell_type": "code",
   "execution_count": 11,
   "metadata": {
    "collapsed": false
   },
   "outputs": [
    {
     "data": {
      "text/plain": [
       "<matplotlib.legend.Legend at 0x10bc5fbd0>"
      ]
     },
     "execution_count": 11,
     "metadata": {},
     "output_type": "execute_result"
    },
    {
     "data": {
      "image/png": "[encoded data removed]",
      "text/plain": [
       "<matplotlib.figure.Figure at 0x117c8ef50>"
      ]
     },
     "metadata": {},
     "output_type": "display_data"
    }
   ],
   "source": [
    "pl.plot(bins[:-1] + 1, cMH / cMH.max(), label = \"Manhattan\")\n",
    "pl.plot(bins[:-1] + 1, cBK / cBK.max(), label = \"Brooklyn\")\n",
    "pl.legend()"
   ]
  },
  {
   "cell_type": "code",
   "execution_count": 12,
   "metadata": {
    "collapsed": false
   },
   "outputs": [
    {
     "name": "stdout",
     "output_type": "stream",
     "text": [
      "K-S Statistic: 0.226464\n",
      "p value: 0.003877\n"
     ]
    }
   ],
   "source": [
    "# Runnning a K-S test to compare the samples\n",
    "ks = scipy.stats.ks_2samp(MH.age, BK.age)\n",
    "print 'K-S Statistic:', round(ks[0],6)\n",
    "print 'p value:', round(ks[1],6)"
   ]
  },
  {
   "cell_type": "markdown",
   "metadata": {
    "collapsed": false
   },
   "source": [
    "## Conclusion:\n",
    "The p-value of 0.03877 is less than our signficance level alpha = 0.05, therefore we reject the null hypothesis that the distribution of ages for Manhattan and Brooklyn riders look the same.\n",
    "\n"
   ]
  },
  {
   "cell_type": "markdown",
   "metadata": {},
   "source": [
    "# Let's do a T-test now!\n",
    "\n",
    "Null hypothesis:\n",
    "The average age of subscribers who start rides in Brooklyn stations is greater or the same as subscribers who start rides in Manhattan stations\n",
    "\n",
    "Alternative hypothesis:\n",
    "The average of subscribers who start rides in Brooklyn stations is lower than that of subscribers who start rides in Manhattan stations\n",
    "\n",
    "Assumptions: we assume that the two samples are independently randomly selected samples and that October 2014, which is our chosen month of data, is a representative month. We also assume the age distribution is more or less normal for both populations.\n",
    "\n",
    "alpha = 0.05"
   ]
  },
  {
   "cell_type": "code",
   "execution_count": 123,
   "metadata": {
    "collapsed": false
   },
   "outputs": [
    {
     "data": {
      "text/html": [
       "<div>\n",
       "<table border=\"1\" class=\"dataframe\">\n",
       "  <thead>\n",
       "    <tr style=\"text-align: right;\">\n",
       "      <th></th>\n",
       "      <th>tripduration</th>\n",
       "      <th>starttime</th>\n",
       "      <th>stoptime</th>\n",
       "      <th>start station id</th>\n",
       "      <th>start station name</th>\n",
       "      <th>start station latitude</th>\n",
       "      <th>start station longitude</th>\n",
       "      <th>end station id</th>\n",
       "      <th>end station name</th>\n",
       "      <th>end station latitude</th>\n",
       "      <th>...</th>\n",
       "      <th>usertype</th>\n",
       "      <th>birth year</th>\n",
       "      <th>gender</th>\n",
       "      <th>sid</th>\n",
       "      <th>age</th>\n",
       "      <th>X</th>\n",
       "      <th>Y</th>\n",
       "      <th>lat</th>\n",
       "      <th>lon</th>\n",
       "      <th>boro</th>\n",
       "    </tr>\n",
       "  </thead>\n",
       "  <tbody>\n",
       "    <tr>\n",
       "      <th>0</th>\n",
       "      <td>1027</td>\n",
       "      <td>10/1/2014 00:00:27</td>\n",
       "      <td>10/1/2014 00:17:34</td>\n",
       "      <td>479</td>\n",
       "      <td>9 Ave &amp; W 45 St</td>\n",
       "      <td>40.760193</td>\n",
       "      <td>-73.991255</td>\n",
       "      <td>540</td>\n",
       "      <td>Lexington Ave &amp; E 26 St</td>\n",
       "      <td>40.741473</td>\n",
       "      <td>...</td>\n",
       "      <td>Subscriber</td>\n",
       "      <td>1977</td>\n",
       "      <td>1</td>\n",
       "      <td>479</td>\n",
       "      <td>38</td>\n",
       "      <td>-73.991255</td>\n",
       "      <td>40.760193</td>\n",
       "      <td>40.760193</td>\n",
       "      <td>-73.991255</td>\n",
       "      <td>MH</td>\n",
       "    </tr>\n",
       "    <tr>\n",
       "      <th>1</th>\n",
       "      <td>174</td>\n",
       "      <td>10/1/2014 00:33:34</td>\n",
       "      <td>10/1/2014 00:36:28</td>\n",
       "      <td>479</td>\n",
       "      <td>9 Ave &amp; W 45 St</td>\n",
       "      <td>40.760193</td>\n",
       "      <td>-73.991255</td>\n",
       "      <td>488</td>\n",
       "      <td>W 39 St &amp; 9 Ave</td>\n",
       "      <td>40.756458</td>\n",
       "      <td>...</td>\n",
       "      <td>Subscriber</td>\n",
       "      <td>1990</td>\n",
       "      <td>1</td>\n",
       "      <td>479</td>\n",
       "      <td>25</td>\n",
       "      <td>-73.991255</td>\n",
       "      <td>40.760193</td>\n",
       "      <td>40.760193</td>\n",
       "      <td>-73.991255</td>\n",
       "      <td>MH</td>\n",
       "    </tr>\n",
       "    <tr>\n",
       "      <th>2</th>\n",
       "      <td>327</td>\n",
       "      <td>10/1/2014 00:38:14</td>\n",
       "      <td>10/1/2014 00:43:41</td>\n",
       "      <td>479</td>\n",
       "      <td>9 Ave &amp; W 45 St</td>\n",
       "      <td>40.760193</td>\n",
       "      <td>-73.991255</td>\n",
       "      <td>513</td>\n",
       "      <td>W 56 St &amp; 10 Ave</td>\n",
       "      <td>40.768254</td>\n",
       "      <td>...</td>\n",
       "      <td>Subscriber</td>\n",
       "      <td>1956</td>\n",
       "      <td>1</td>\n",
       "      <td>479</td>\n",
       "      <td>59</td>\n",
       "      <td>-73.991255</td>\n",
       "      <td>40.760193</td>\n",
       "      <td>40.760193</td>\n",
       "      <td>-73.991255</td>\n",
       "      <td>MH</td>\n",
       "    </tr>\n",
       "  </tbody>\n",
       "</table>\n",
       "<p>3 rows × 22 columns</p>\n",
       "</div>"
      ],
      "text/plain": [
       "   tripduration           starttime            stoptime  start station id  \\\n",
       "0          1027  10/1/2014 00:00:27  10/1/2014 00:17:34               479   \n",
       "1           174  10/1/2014 00:33:34  10/1/2014 00:36:28               479   \n",
       "2           327  10/1/2014 00:38:14  10/1/2014 00:43:41               479   \n",
       "\n",
       "  start station name  start station latitude  start station longitude  \\\n",
       "0    9 Ave & W 45 St               40.760193               -73.991255   \n",
       "1    9 Ave & W 45 St               40.760193               -73.991255   \n",
       "2    9 Ave & W 45 St               40.760193               -73.991255   \n",
       "\n",
       "   end station id         end station name  end station latitude  ...   \\\n",
       "0             540  Lexington Ave & E 26 St             40.741473  ...    \n",
       "1             488          W 39 St & 9 Ave             40.756458  ...    \n",
       "2             513         W 56 St & 10 Ave             40.768254  ...    \n",
       "\n",
       "     usertype  birth year gender  sid  age          X          Y        lat  \\\n",
       "0  Subscriber        1977      1  479   38 -73.991255  40.760193  40.760193   \n",
       "1  Subscriber        1990      1  479   25 -73.991255  40.760193  40.760193   \n",
       "2  Subscriber        1956      1  479   59 -73.991255  40.760193  40.760193   \n",
       "\n",
       "         lon  boro  \n",
       "0 -73.991255    MH  \n",
       "1 -73.991255    MH  \n",
       "2 -73.991255    MH  \n",
       "\n",
       "[3 rows x 22 columns]"
      ]
     },
     "execution_count": 123,
     "metadata": {},
     "output_type": "execute_result"
    }
   ],
   "source": [
    "#First let's do some data wrangling, again we're looking at only subscribers and reasonable ages, let's subset trips\n",
    "trips = trips[(trips['usertype']=='Subscriber')&(trips['birth year']>1925)]\n",
    "trips['sid'] = trips['start station id']\n",
    "trips['age'] = 2015-trips['birth year']\n",
    "\n",
    "#merge station and trips data\n",
    "mergedtrips = pd.merge(trips, stations, on=['sid'])\n",
    "\n",
    "mergedtrips.head(3)"
   ]
  },
  {
   "cell_type": "code",
   "execution_count": 41,
   "metadata": {
    "collapsed": false
   },
   "outputs": [],
   "source": [
    "boro_merge = mergedtrips.groupby(['boro'], as_index=False).agg(['mean','count'])"
   ]
  },
  {
   "cell_type": "code",
   "execution_count": 124,
   "metadata": {
    "collapsed": false
   },
   "outputs": [
    {
     "name": "stdout",
     "output_type": "stream",
     "text": [
      "           mean   count\n",
      "boro                   \n",
      "BK    37.403444   45766\n",
      "MH    38.629209  707170\n"
     ]
    }
   ],
   "source": [
    "#let's take a quick look at the count and average age\n",
    "age_mean_boro_count = boro_merge['age']\n",
    "print age_mean_boro_count"
   ]
  },
  {
   "cell_type": "code",
   "execution_count": 125,
   "metadata": {
    "collapsed": false
   },
   "outputs": [
    {
     "data": {
      "text/plain": [
       "<matplotlib.legend.Legend at 0x10ca458d0>"
      ]
     },
     "execution_count": 125,
     "metadata": {},
     "output_type": "execute_result"
    },
    {
     "data": {
      "image/png": "[encoded data removed]",
      "text/plain": [
       "<matplotlib.figure.Figure at 0x10b7f1450>"
      ]
     },
     "metadata": {},
     "output_type": "display_data"
    }
   ],
   "source": [
    "#let's visualize this data.\n",
    "\n",
    "fig=pl.figure(figsize(15,15))\n",
    "\n",
    "counts_BK= mergedtrips.boro[mergedtrips.boro=='BK'].groupby([mergedtrips.age]).count()\n",
    "counts_MH= mergedtrips.boro[mergedtrips.boro=='MH'].groupby([mergedtrips.age]).count()\n",
    "\n",
    "norm_BK = counts_BK.sum()\n",
    "error_BK=np.sqrt(counts_BK)\n",
    "ax = ((counts_BK)/norm_BK).plot(kind=\"bar\",color='IndianRed',  yerr=[((error_BK)/norm_BK,(error_BK)/norm_BK)], label='BK bikers')\n",
    "\n",
    "\n",
    "norm_MH = counts_MH.sum()\n",
    "error_MH=np.sqrt(counts_MH)\n",
    "ax = ((counts_MH)/norm_MH).plot(kind=\"bar\", alpha=0.5, yerr=[((error_MH)/norm_MH,(error_MH)/norm_MH)], label='MH bikers')\n",
    "\n",
    "pl.legend(['BK bikers','MH bikers'],fontsize=20)"
   ]
  },
  {
   "cell_type": "code",
   "execution_count": 126,
   "metadata": {
    "collapsed": false
   },
   "outputs": [],
   "source": [
    "df_BK = mergedtrips[mergedtrips['boro'] == 'BK']['age']\n",
    "df_MH = mergedtrips[mergedtrips['boro'] == 'MH']['age']"
   ]
  },
  {
   "cell_type": "code",
   "execution_count": 128,
   "metadata": {
    "collapsed": false
   },
   "outputs": [
    {
     "data": {
      "text/plain": [
       "(-22.323218963052874, 2.3884394725417008e-110)"
      ]
     },
     "execution_count": 128,
     "metadata": {},
     "output_type": "execute_result"
    }
   ],
   "source": [
    "#finally, run a T-Test on these two sample data sets\n",
    "scipy.stats.ttest_ind(df_BK,df_MH)"
   ]
  },
  {
   "cell_type": "markdown",
   "metadata": {},
   "source": [
    "#Conclusion:\n",
    "our t-statistic yields a very small p-value (2.38E-110) which is much less than our chosen alpha of 0.05. Therefore, we reject the null hypothesis. Brooklyn riders are on average younger than Manhattan riders!"
   ]
  },
  {
   "cell_type": "code",
   "execution_count": null,
   "metadata": {
    "collapsed": true
   },
   "outputs": [],
   "source": []
  }
 ],
 "metadata": {
  "kernelspec": {
   "display_name": "Python 2",
   "language": "python",
   "name": "python2"
  },
  "language_info": {
   "codemirror_mode": {
    "name": "ipython",
    "version": 2
   },
   "file_extension": ".py",
   "mimetype": "text/x-python",
   "name": "python",
   "nbconvert_exporter": "python",
   "pygments_lexer": "ipython2",
   "version": "2.7.10"
  }
 },
 "nbformat": 4,
 "nbformat_minor": 0
}
