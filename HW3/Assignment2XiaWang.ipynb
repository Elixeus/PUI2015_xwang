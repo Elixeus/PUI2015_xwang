{
 "cells": [
  {
   "cell_type": "markdown",
   "metadata": {},
   "source": [
    "# the null hypothesis: the % of the former inmates being employed 3 years after the release is the same or lower for participants of the program than the control group, at the significance level of 0.05."
   ]
  },
  {
   "cell_type": "markdown",
   "metadata": {},
   "source": [
    "##$H_0 :  P_0 - P_1  \\geq 0$"
   ]
  },
  {
   "cell_type": "markdown",
   "metadata": {},
   "source": [
    "## $H_a : P_0 - P_1 < 0$"
   ]
  },
  {
   "cell_type": "markdown",
   "metadata": {},
   "source": [
    "## $\\alpha = 0.05$"
   ]
  },
  {
   "cell_type": "markdown",
   "metadata": {},
   "source": [
    "## $P_0 = 0.521, P_1 = 0.533$"
   ]
  },
  {
   "cell_type": "code",
   "execution_count": 1,
   "metadata": {
    "collapsed": true
   },
   "outputs": [],
   "source": [
    "import numpy as np"
   ]
  },
  {
   "cell_type": "code",
   "execution_count": 2,
   "metadata": {
    "collapsed": true
   },
   "outputs": [],
   "source": [
    "alpha = 0.05\n",
    "p_0 = 0.521\n",
    "p_1 = 0.533\n",
    "n_0 = 409\n",
    "n_1 = 564\n",
    "\n",
    "Nt_0 = p_0*n_0\n",
    "Nt_1 = p_1*n_1"
   ]
  },
  {
   "cell_type": "code",
   "execution_count": 3,
   "metadata": {
    "collapsed": false
   },
   "outputs": [
    {
     "name": "stdout",
     "output_type": "stream",
     "text": [
      "0.527955806783\n"
     ]
    }
   ],
   "source": [
    "# define sample proportion\n",
    "sp = (p_0*n_0 + p_1*n_1)/(n_1+n_0)\n",
    "print sp"
   ]
  },
  {
   "cell_type": "code",
   "execution_count": 4,
   "metadata": {
    "collapsed": false
   },
   "outputs": [
    {
     "name": "stdout",
     "output_type": "stream",
     "text": [
      "0.521 409 564 0.0324224126866\n"
     ]
    }
   ],
   "source": [
    "# standard deviaiton funciton\n",
    "sp_stdev = lambda p, n: np.sqrt(p*(1-p)/n[0] + p*(1-p)/n[1] )\n",
    "sp_stdev_3y = sp_stdev((Nt_0+Nt_1)/(n_0+n_1),[n_0, n_1])\n",
    "print p_0, n_0, n_1, sp_stdev_3y"
   ]
  },
  {
   "cell_type": "code",
   "execution_count": 5,
   "metadata": {
    "collapsed": false
   },
   "outputs": [
    {
     "name": "stdout",
     "output_type": "stream",
     "text": [
      "0.370114343926\n"
     ]
    }
   ],
   "source": [
    "# z-score function\n",
    "zscore = lambda p0, p1, s: (p0 - p1)/s\n",
    "z_3y = zscore(p_1, p_0, sp_stdev_3y)\n",
    "print z_3y"
   ]
  },
  {
   "cell_type": "markdown",
   "metadata": {},
   "source": [
    "## According to the z-score table, P(Z<z)$\\approx$0.644"
   ]
  },
  {
   "cell_type": "code",
   "execution_count": 6,
   "metadata": {
    "collapsed": false
   },
   "outputs": [],
   "source": [
    "p_3y = 1 - 0.644"
   ]
  },
  {
   "cell_type": "code",
   "execution_count": 7,
   "metadata": {
    "collapsed": false
   },
   "outputs": [
    {
     "name": "stdout",
     "output_type": "stream",
     "text": [
      "the p-value 0.36 is larger than or equal to 0.05.\n",
      "Do not reject the Null Hypothesis!\n"
     ]
    }
   ],
   "source": [
    "if p_3y > alpha:\n",
    "    print 'the p-value %0.2f is larger than or equal to %0.2f.' % (p_3y, alpha)\n",
    "    print 'Do not reject the Null Hypothesis!'\n",
    "else:\n",
    "    print 'the p-value %0.2f is less than %0.2f.' % (p_3y, alpha)\n",
    "    print 'Reject the Null Hypothesis!'"
   ]
  },
  {
   "cell_type": "markdown",
   "metadata": {},
   "source": [
    "## Now for the chi-squared test"
   ]
  },
  {
   "cell_type": "markdown",
   "metadata": {},
   "source": [
    "## The null hypothesis: the % of the former inmates with postprogram unsubsidized employment for more than 6 weeks is the same or lower for participants of the program than the control group, at the significance level of 0.05."
   ]
  },
  {
   "cell_type": "markdown",
   "metadata": {},
   "source": [
    "\n",
    "| Ever employed  | Employed in unsubsidized job | not employed | total number of people |\n",
    "| -------------  |:---------------------------: | ------------:| ---------------------: |\n",
    "| test sample    |       14.7\\*5.46             | 85.3\\*5.64   |        564             |\n",
    "| control sample |       11.9\\*4.09             | 88.1\\*4.09   |        409             |\n",
    "| total          |       115.787                | 857.213      |        973             |"
   ]
  },
  {
   "cell_type": "code",
   "execution_count": 8,
   "metadata": {
    "collapsed": false
   },
   "outputs": [
    {
     "name": "stdout",
     "output_type": "stream",
     "text": [
      "1.772893977\n"
     ]
    }
   ],
   "source": [
    "Ntot = 973\n",
    "expected = 564*409*115.787*857.213\n",
    "sample_values = [[14.7*5.64, 85.3*5.64], [11.9*4.09, 88.1*4.09]]\n",
    "chi_stats = lambda N, values, expect: N*((values[0][0]*values[1][1]-values[0][1]*values[1][0])**2)/(expect)\n",
    "\n",
    "print chi_stats(Ntot, sample_values, expected)"
   ]
  },
  {
   "cell_type": "markdown",
   "metadata": {},
   "source": [
    "## The chi-squared test value 3.84 (with 1 degree of freedom) stands for the level of confidence 0.05. Our test value 1.77 gives us a p-value between 0.1 and 0.25. p_row5 $\\approx$ 0.22. Since p_row5 > $alpha$, we woundn't want to reject the null hypothesis."
   ]
  },
  {
   "cell_type": "code",
   "execution_count": null,
   "metadata": {
    "collapsed": true
   },
   "outputs": [],
   "source": []
  }
 ],
 "metadata": {
  "kernelspec": {
   "display_name": "Python 2",
   "language": "python",
   "name": "python2"
  },
  "language_info": {
   "codemirror_mode": {
    "name": "ipython",
    "version": 2
   },
   "file_extension": ".py",
   "mimetype": "text/x-python",
   "name": "python",
   "nbconvert_exporter": "python",
   "pygments_lexer": "ipython2",
   "version": "2.7.10"
  }
 },
 "nbformat": 4,
 "nbformat_minor": 0
}
