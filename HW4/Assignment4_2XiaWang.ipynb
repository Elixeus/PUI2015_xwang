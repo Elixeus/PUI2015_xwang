{
 "cells": [
  {
   "cell_type": "code",
   "execution_count": 3,
   "metadata": {
    "collapsed": false
   },
   "outputs": [
    {
     "name": "stdout",
     "output_type": "stream",
     "text": [
      "Populating the interactive namespace from numpy and matplotlib\n"
     ]
    }
   ],
   "source": [
    "import pylab as pl\n",
    "import pandas as pd\n",
    "import numpy as np\n",
    "import scipy.stats\n",
    "%pylab inline"
   ]
  },
  {
   "cell_type": "code",
   "execution_count": 4,
   "metadata": {
    "collapsed": false
   },
   "outputs": [],
   "source": [
    "myseed = np.random.seed(201510)\n",
    "myarray = xrange(1,50)\n",
    "for i,n in enumerate(myarray):\n",
    "    p = 0.3\n",
    "    myseed\n",
    "    myDist = np.random.binomial(n, p, 1000)\n",
    "    ks_bino[i] = ks_b[i] = scipy.stats.kstest(dist, mynorm, args=(n*p, n*p*(1.0-p)))[0]\n",
    "ks_bino = np.zeros(len(myarray))\n",
    "ad_bino = np.zeros(len(myarray))\n",
    "kl_bino = np.zeros(len(myarray))\n",
    "chi2_bino = np.zeros(len(myarray))"
   ]
  },
  {
   "cell_type": "code",
   "execution_count": 16,
   "metadata": {
    "collapsed": false
   },
   "outputs": [
    {
     "name": "stdout",
     "output_type": "stream",
     "text": [
      "(xrange(1, 50), xrange(1, 50))\n"
     ]
    }
   ],
   "source": [
    "def norm_xia(x, mu, var):\n",
    "    return scipy.stats.norm.cdf(x,loc=mu,scale=var)\n",
    "print myarray"
   ]
  },
  {
   "cell_type": "code",
   "execution_count": null,
   "metadata": {
    "collapsed": true
   },
   "outputs": [],
   "source": []
  }
 ],
 "metadata": {
  "kernelspec": {
   "display_name": "Python 2",
   "language": "python",
   "name": "python2"
  },
  "language_info": {
   "codemirror_mode": {
    "name": "ipython",
    "version": 2
   },
   "file_extension": ".py",
   "mimetype": "text/x-python",
   "name": "python",
   "nbconvert_exporter": "python",
   "pygments_lexer": "ipython2",
   "version": "2.7.10"
  }
 },
 "nbformat": 4,
 "nbformat_minor": 0
}
